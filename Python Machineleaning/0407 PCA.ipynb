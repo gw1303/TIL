{
 "cells": [
  {
   "cell_type": "markdown",
   "metadata": {},
   "source": [
    "# PCA\n",
    "PCA : 공분산 행렬의 고유벡터로 데이터를 projection하는 것"
   ]
  },
  {
   "cell_type": "code",
<<<<<<< HEAD
   "execution_count": 1,
=======
   "execution_count": 6,
>>>>>>> 874a3aee259395a72bf941f93b0617615eeef427
   "metadata": {},
   "outputs": [],
   "source": [
    "import numpy as np\n",
    "import pandas as pd\n",
    "\n",
    "import matplotlib.pyplot as plt\n",
<<<<<<< HEAD
    "import seaborn as sns\n",
    "\n",
    "from math import sqrt\n",
=======
>>>>>>> 874a3aee259395a72bf941f93b0617615eeef427
    "\n",
    "import warnings\n",
    "warnings.filterwarnings(action='ignore')"
   ]
  },
  {
   "cell_type": "code",
<<<<<<< HEAD
   "execution_count": 114,
=======
   "execution_count": 9,
>>>>>>> 874a3aee259395a72bf941f93b0617615eeef427
   "metadata": {},
   "outputs": [],
   "source": [
    "df = pd.DataFrame(columns=['calory', 'breakfast', 'lunch', 'dinner', 'exercise', 'body_shape'])\n",
    "df.loc[0] = [1200, 1, 0, 0, 2, 'Skinny']\n",
    "df.loc[1] = [2800, 1, 1, 1, 1, 'Normal']\n",
    "df.loc[2] = [3500, 2, 2, 1, 0, 'Fat']\n",
    "df.loc[3] = [1400, 0, 1, 0, 3, 'Skinny']\n",
    "df.loc[4] = [5000, 2, 2, 2, 0, 'Fat']\n",
    "df.loc[5] = [1300, 0, 0, 1, 2, 'Skinny']\n",
    "df.loc[6] = [3000, 1, 0, 1, 1, 'Normal']\n",
    "df.loc[7] = [4000, 2, 2, 2, 0, 'Fat']\n",
    "df.loc[8] = [2600, 0, 2, 0, 0, 'Normal']\n",
    "df.loc[9] = [3000, 1, 2, 1, 1, 'Fat']"
   ]
  },
  {
   "cell_type": "code",
<<<<<<< HEAD
   "execution_count": 115,
=======
   "execution_count": 11,
>>>>>>> 874a3aee259395a72bf941f93b0617615eeef427
   "metadata": {},
   "outputs": [
    {
     "data": {
      "text/html": [
       "<div>\n",
       "<style scoped>\n",
       "    .dataframe tbody tr th:only-of-type {\n",
       "        vertical-align: middle;\n",
       "    }\n",
       "\n",
       "    .dataframe tbody tr th {\n",
       "        vertical-align: top;\n",
       "    }\n",
       "\n",
       "    .dataframe thead th {\n",
       "        text-align: right;\n",
       "    }\n",
       "</style>\n",
       "<table border=\"1\" class=\"dataframe\">\n",
       "  <thead>\n",
       "    <tr style=\"text-align: right;\">\n",
       "      <th></th>\n",
       "      <th>calory</th>\n",
       "      <th>breakfast</th>\n",
       "      <th>lunch</th>\n",
       "      <th>dinner</th>\n",
       "      <th>exercise</th>\n",
       "      <th>body_shape</th>\n",
       "    </tr>\n",
       "  </thead>\n",
       "  <tbody>\n",
       "    <tr>\n",
       "      <td>0</td>\n",
       "      <td>1200</td>\n",
       "      <td>1</td>\n",
       "      <td>0</td>\n",
       "      <td>0</td>\n",
       "      <td>2</td>\n",
       "      <td>Skinny</td>\n",
       "    </tr>\n",
       "    <tr>\n",
       "      <td>1</td>\n",
       "      <td>2800</td>\n",
       "      <td>1</td>\n",
       "      <td>1</td>\n",
       "      <td>1</td>\n",
       "      <td>1</td>\n",
       "      <td>Normal</td>\n",
       "    </tr>\n",
       "    <tr>\n",
       "      <td>2</td>\n",
       "      <td>3500</td>\n",
       "      <td>2</td>\n",
       "      <td>2</td>\n",
       "      <td>1</td>\n",
       "      <td>0</td>\n",
       "      <td>Fat</td>\n",
       "    </tr>\n",
       "    <tr>\n",
       "      <td>3</td>\n",
       "      <td>1400</td>\n",
       "      <td>0</td>\n",
       "      <td>1</td>\n",
       "      <td>0</td>\n",
       "      <td>3</td>\n",
       "      <td>Skinny</td>\n",
       "    </tr>\n",
       "    <tr>\n",
       "      <td>4</td>\n",
       "      <td>5000</td>\n",
       "      <td>2</td>\n",
       "      <td>2</td>\n",
       "      <td>2</td>\n",
       "      <td>0</td>\n",
       "      <td>Fat</td>\n",
       "    </tr>\n",
       "    <tr>\n",
       "      <td>5</td>\n",
       "      <td>1300</td>\n",
       "      <td>0</td>\n",
       "      <td>0</td>\n",
       "      <td>1</td>\n",
       "      <td>2</td>\n",
       "      <td>Skinny</td>\n",
       "    </tr>\n",
       "    <tr>\n",
       "      <td>6</td>\n",
       "      <td>3000</td>\n",
       "      <td>1</td>\n",
       "      <td>0</td>\n",
       "      <td>1</td>\n",
       "      <td>1</td>\n",
       "      <td>Normal</td>\n",
       "    </tr>\n",
       "    <tr>\n",
       "      <td>7</td>\n",
       "      <td>4000</td>\n",
       "      <td>2</td>\n",
       "      <td>2</td>\n",
       "      <td>2</td>\n",
       "      <td>0</td>\n",
       "      <td>Fat</td>\n",
       "    </tr>\n",
       "    <tr>\n",
       "      <td>8</td>\n",
       "      <td>2600</td>\n",
       "      <td>0</td>\n",
       "      <td>2</td>\n",
       "      <td>0</td>\n",
       "      <td>0</td>\n",
       "      <td>Normal</td>\n",
       "    </tr>\n",
       "    <tr>\n",
       "      <td>9</td>\n",
       "      <td>3000</td>\n",
       "      <td>1</td>\n",
       "      <td>2</td>\n",
       "      <td>1</td>\n",
       "      <td>1</td>\n",
       "      <td>Fat</td>\n",
       "    </tr>\n",
       "  </tbody>\n",
       "</table>\n",
       "</div>"
      ],
      "text/plain": [
       "  calory breakfast lunch dinner exercise body_shape\n",
       "0   1200         1     0      0        2     Skinny\n",
       "1   2800         1     1      1        1     Normal\n",
       "2   3500         2     2      1        0        Fat\n",
       "3   1400         0     1      0        3     Skinny\n",
       "4   5000         2     2      2        0        Fat\n",
       "5   1300         0     0      1        2     Skinny\n",
       "6   3000         1     0      1        1     Normal\n",
       "7   4000         2     2      2        0        Fat\n",
       "8   2600         0     2      0        0     Normal\n",
       "9   3000         1     2      1        1        Fat"
      ]
     },
<<<<<<< HEAD
     "execution_count": 115,
=======
     "execution_count": 11,
>>>>>>> 874a3aee259395a72bf941f93b0617615eeef427
     "metadata": {},
     "output_type": "execute_result"
    }
   ],
   "source": [
    "df"
   ]
  },
  {
   "cell_type": "code",
<<<<<<< HEAD
   "execution_count": 116,
=======
   "execution_count": 29,
>>>>>>> 874a3aee259395a72bf941f93b0617615eeef427
   "metadata": {},
   "outputs": [],
   "source": [
    "# 데이터 분할\n",
    "X = df[['calory', 'breakfast', 'lunch', 'dinner', 'exercise']]\n",
    "Y = df['body_shape']"
   ]
  },
  {
   "cell_type": "code",
<<<<<<< HEAD
   "execution_count": 117,
=======
   "execution_count": 12,
>>>>>>> 874a3aee259395a72bf941f93b0617615eeef427
   "metadata": {},
   "outputs": [],
   "source": [
    "# 표준화 작업을 위한 라이브러리\n",
    "from sklearn.preprocessing import StandardScaler"
   ]
  },
  {
   "cell_type": "code",
<<<<<<< HEAD
   "execution_count": 118,
=======
   "execution_count": 14,
>>>>>>> 874a3aee259395a72bf941f93b0617615eeef427
   "metadata": {},
   "outputs": [],
   "source": [
    "scaler = StandardScaler()"
   ]
  },
  {
   "cell_type": "code",
<<<<<<< HEAD
   "execution_count": 121,
   "metadata": {},
   "outputs": [
    {
     "data": {
      "text/plain": [
       "pandas.core.frame.DataFrame"
      ]
     },
     "execution_count": 121,
     "metadata": {},
     "output_type": "execute_result"
    }
   ],
   "source": [
    "type(X)"
   ]
  },
  {
   "cell_type": "code",
   "execution_count": 122,
=======
   "execution_count": 40,
>>>>>>> 874a3aee259395a72bf941f93b0617615eeef427
   "metadata": {},
   "outputs": [
    {
     "data": {
      "text/plain": [
       "array([[-1.35205803,  0.01711466,  0.61612771, -1.18091145,  1.89972711,\n",
       "        -1.26648474,  0.18826125,  1.04399418, -0.15403193,  0.18826125],\n",
       "       [ 0.        ,  0.        ,  1.29099445, -1.29099445,  1.29099445,\n",
       "        -1.29099445,  0.        ,  1.29099445, -1.29099445,  0.        ],\n",
       "       [-1.3764944 , -0.22941573,  0.91766294, -0.22941573,  0.91766294,\n",
       "        -1.3764944 , -1.3764944 ,  0.91766294,  0.91766294,  0.91766294],\n",
       "       [-1.28571429,  0.14285714,  0.14285714, -1.28571429,  1.57142857,\n",
       "         0.14285714,  0.14285714,  1.57142857, -1.28571429,  0.14285714],\n",
       "       [ 1.        ,  0.        , -1.        ,  2.        , -1.        ,\n",
       "         1.        ,  0.        , -1.        , -1.        ,  0.        ]])"
      ]
     },
<<<<<<< HEAD
     "execution_count": 122,
=======
     "execution_count": 40,
>>>>>>> 874a3aee259395a72bf941f93b0617615eeef427
     "metadata": {},
     "output_type": "execute_result"
    }
   ],
   "source": [
    "x_std = scaler.fit_transform(X)\n",
    "x_std\n",
    "f = x_std.T  # 전치행렬 \n",
    "f"
   ]
  },
  {
   "cell_type": "code",
<<<<<<< HEAD
   "execution_count": 8,
=======
   "execution_count": 41,
>>>>>>> 874a3aee259395a72bf941f93b0617615eeef427
   "metadata": {},
   "outputs": [
    {
     "data": {
      "text/plain": [
       "array([[ 1.11111111,  0.88379717,  0.76782385,  0.89376551, -0.93179808],\n",
       "       [ 0.88379717,  1.11111111,  0.49362406,  0.81967902, -0.71721914],\n",
       "       [ 0.76782385,  0.49362406,  1.11111111,  0.40056715, -0.76471911],\n",
       "       [ 0.89376551,  0.81967902,  0.40056715,  1.11111111, -0.63492063],\n",
       "       [-0.93179808, -0.71721914, -0.76471911, -0.63492063,  1.11111111]])"
      ]
     },
<<<<<<< HEAD
     "execution_count": 8,
=======
     "execution_count": 41,
>>>>>>> 874a3aee259395a72bf941f93b0617615eeef427
     "metadata": {},
     "output_type": "execute_result"
    }
   ],
   "source": [
    "# 전치행렬의 공분산행렬\n",
    "\n",
    "np.cov(f)\n",
    "# 'calory', 'breakfast', 'lunch', 'dinner', 'exercise'"
   ]
  },
  {
   "cell_type": "code",
<<<<<<< HEAD
   "execution_count": 9,
=======
   "execution_count": 56,
>>>>>>> 874a3aee259395a72bf941f93b0617615eeef427
   "metadata": {},
   "outputs": [
    {
     "name": "stdout",
     "output_type": "stream",
     "text": [
      "고유 벡터 \n",
      " [[ 0.508005    0.0169937  -0.84711404  0.11637853  0.10244985]\n",
      " [ 0.44660335  0.36890361  0.12808055 -0.63112016 -0.49973822]\n",
      " [ 0.38377913 -0.70804084  0.20681005 -0.40305226  0.38232213]\n",
      " [ 0.42845209  0.53194699  0.3694462   0.22228235  0.58954327]\n",
      " [-0.46002038  0.2816592  -0.29450345 -0.61341895  0.49601841]]\n",
      "고유 값 \n",
      " [4.0657343  0.8387565  0.07629538 0.27758568 0.2971837 ]\n"
     ]
    }
   ],
   "source": [
    "# 고유값과 고유벡터 (np.linalg.eig)\n",
    "eig_vals, eig_vecs = np.linalg.eig(np.cov(f))\n",
    "\n",
    "print('고유 벡터 \\n %s' % eig_vecs)\n",
    "print('고유 값 \\n %s' % eig_vals)"
   ]
  },
  {
   "cell_type": "code",
<<<<<<< HEAD
   "execution_count": 10,
=======
   "execution_count": 58,
>>>>>>> 874a3aee259395a72bf941f93b0617615eeef427
   "metadata": {},
   "outputs": [
    {
     "data": {
      "text/plain": [
       "0.7318321731427544"
      ]
     },
<<<<<<< HEAD
     "execution_count": 10,
=======
     "execution_count": 58,
>>>>>>> 874a3aee259395a72bf941f93b0617615eeef427
     "metadata": {},
     "output_type": "execute_result"
    }
   ],
   "source": [
    "eig_vals[0] / sum(eig_vals)  # 0.73 만큼의 데이터의 특성을 담는다\n",
    "# 5차원 -> 1차원(eig_val[0])축으로 차원축소하면 73%의 데이터 특성을 담는다"
   ]
  },
  {
   "cell_type": "code",
<<<<<<< HEAD
   "execution_count": 11,
=======
   "execution_count": 67,
>>>>>>> 874a3aee259395a72bf941f93b0617615eeef427
   "metadata": {},
   "outputs": [
    {
     "data": {
      "text/plain": [
       "array([-2.22600943, -0.0181432 ,  1.76296611, -2.73542407,  3.02711544,\n",
       "       -2.14702579, -0.37142473,  2.59239883, -0.39347815,  0.50902498])"
      ]
     },
<<<<<<< HEAD
     "execution_count": 11,
=======
     "execution_count": 67,
>>>>>>> 874a3aee259395a72bf941f93b0617615eeef427
     "metadata": {},
     "output_type": "execute_result"
    }
   ],
   "source": [
    "# 첫번째 고유벡터에 데이터를 정사영\n",
    "projected_x = np.dot(x_std, eig_vecs.T[0])\n",
    "projected_x"
   ]
  },
  {
   "cell_type": "code",
<<<<<<< HEAD
   "execution_count": 12,
=======
   "execution_count": 80,
>>>>>>> 874a3aee259395a72bf941f93b0617615eeef427
   "metadata": {},
   "outputs": [
    {
     "data": {
      "text/html": [
       "<div>\n",
       "<style scoped>\n",
       "    .dataframe tbody tr th:only-of-type {\n",
       "        vertical-align: middle;\n",
       "    }\n",
       "\n",
       "    .dataframe tbody tr th {\n",
       "        vertical-align: top;\n",
       "    }\n",
       "\n",
       "    .dataframe thead th {\n",
       "        text-align: right;\n",
       "    }\n",
       "</style>\n",
       "<table border=\"1\" class=\"dataframe\">\n",
       "  <thead>\n",
       "    <tr style=\"text-align: right;\">\n",
       "      <th></th>\n",
       "      <th>PC1</th>\n",
       "      <th>yaxis</th>\n",
       "      <th>label</th>\n",
       "    </tr>\n",
       "  </thead>\n",
       "  <tbody>\n",
       "    <tr>\n",
       "      <td>0</td>\n",
       "      <td>-2.226009</td>\n",
       "      <td>0.0</td>\n",
       "      <td>Skinny</td>\n",
       "    </tr>\n",
       "    <tr>\n",
       "      <td>1</td>\n",
       "      <td>-0.018143</td>\n",
       "      <td>0.0</td>\n",
       "      <td>Normal</td>\n",
       "    </tr>\n",
       "    <tr>\n",
       "      <td>2</td>\n",
       "      <td>1.762966</td>\n",
       "      <td>0.0</td>\n",
       "      <td>Fat</td>\n",
       "    </tr>\n",
       "    <tr>\n",
       "      <td>3</td>\n",
       "      <td>-2.735424</td>\n",
       "      <td>0.0</td>\n",
       "      <td>Skinny</td>\n",
       "    </tr>\n",
       "    <tr>\n",
       "      <td>4</td>\n",
       "      <td>3.027115</td>\n",
       "      <td>0.0</td>\n",
       "      <td>Fat</td>\n",
       "    </tr>\n",
       "    <tr>\n",
       "      <td>5</td>\n",
       "      <td>-2.147026</td>\n",
       "      <td>0.0</td>\n",
       "      <td>Skinny</td>\n",
       "    </tr>\n",
       "    <tr>\n",
       "      <td>6</td>\n",
       "      <td>-0.371425</td>\n",
       "      <td>0.0</td>\n",
       "      <td>Normal</td>\n",
       "    </tr>\n",
       "    <tr>\n",
       "      <td>7</td>\n",
       "      <td>2.592399</td>\n",
       "      <td>0.0</td>\n",
       "      <td>Fat</td>\n",
       "    </tr>\n",
       "    <tr>\n",
       "      <td>8</td>\n",
       "      <td>-0.393478</td>\n",
       "      <td>0.0</td>\n",
       "      <td>Normal</td>\n",
       "    </tr>\n",
       "    <tr>\n",
       "      <td>9</td>\n",
       "      <td>0.509025</td>\n",
       "      <td>0.0</td>\n",
       "      <td>Fat</td>\n",
       "    </tr>\n",
       "  </tbody>\n",
       "</table>\n",
       "</div>"
      ],
      "text/plain": [
       "        PC1  yaxis   label\n",
       "0 -2.226009    0.0  Skinny\n",
       "1 -0.018143    0.0  Normal\n",
       "2  1.762966    0.0     Fat\n",
       "3 -2.735424    0.0  Skinny\n",
       "4  3.027115    0.0     Fat\n",
       "5 -2.147026    0.0  Skinny\n",
       "6 -0.371425    0.0  Normal\n",
       "7  2.592399    0.0     Fat\n",
       "8 -0.393478    0.0  Normal\n",
       "9  0.509025    0.0     Fat"
      ]
     },
<<<<<<< HEAD
     "execution_count": 12,
=======
     "execution_count": 80,
>>>>>>> 874a3aee259395a72bf941f93b0617615eeef427
     "metadata": {},
     "output_type": "execute_result"
    }
   ],
   "source": [
    "res = pd.DataFrame(projected_x,columns=['PC1'])\n",
    "res\n",
    "res['yaxis'] = 0.0\n",
    "res['label'] = Y\n",
    "res"
   ]
  },
  {
   "cell_type": "code",
<<<<<<< HEAD
   "execution_count": 89,
   "metadata": {},
   "outputs": [],
   "source": []
  },
  {
   "cell_type": "code",
   "execution_count": 14,
=======
   "execution_count": 82,
   "metadata": {},
   "outputs": [],
   "source": [
    "import seaborn as sns"
   ]
  },
  {
   "cell_type": "code",
   "execution_count": 86,
>>>>>>> 874a3aee259395a72bf941f93b0617615eeef427
   "metadata": {},
   "outputs": [
    {
     "data": {
      "text/plain": [
<<<<<<< HEAD
       "Text(0.5, 1, 'PCA result')"
      ]
     },
     "execution_count": 14,
=======
       "Text(0.5, 1.0, 'PCA result')"
      ]
     },
     "execution_count": 86,
>>>>>>> 874a3aee259395a72bf941f93b0617615eeef427
     "metadata": {},
     "output_type": "execute_result"
    },
    {
     "data": {
<<<<<<< HEAD
      "image/png": "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\n",
=======
      "image/png": "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\n",
>>>>>>> 874a3aee259395a72bf941f93b0617615eeef427
      "text/plain": [
       "<Figure size 432.25x360 with 1 Axes>"
      ]
     },
     "metadata": {
      "needs_background": "light"
     },
     "output_type": "display_data"
    }
   ],
   "source": [
    "sns.lmplot('PC1', 'yaxis', res, hue = 'label', fit_reg=False)\n",
    "\n",
    "plt.title('PCA result')"
   ]
  },
  {
   "cell_type": "code",
   "execution_count": null,
   "metadata": {},
   "outputs": [],
   "source": []
  },
  {
   "cell_type": "code",
   "execution_count": null,
   "metadata": {},
   "outputs": [],
   "source": []
  },
  {
   "cell_type": "code",
   "execution_count": null,
   "metadata": {},
   "outputs": [],
   "source": []
  },
  {
   "cell_type": "code",
<<<<<<< HEAD
   "execution_count": 15,
=======
   "execution_count": 36,
>>>>>>> 874a3aee259395a72bf941f93b0617615eeef427
   "metadata": {},
   "outputs": [
    {
     "name": "stdout",
     "output_type": "stream",
     "text": [
      "['A', 'B', 'C', 'H', 'D', 'I', 'J', 'M', 'E', 'G', 'K', 'F', 'L']\n",
      "['A', 'B', 'H', 'M', 'J', 'K', 'L', 'I', 'C', 'D', 'G', 'E', 'F']\n"
     ]
    }
   ],
   "source": [
    "def bfs(graph, start_node):\n",
    "    visit = list()\n",
    "    queue = list()\n",
    "\n",
    "    queue.append(start_node)\n",
    "\n",
    "    while queue:\n",
    "        node = queue.pop(0)\n",
    "        if node not in visit:\n",
    "            visit.append(node)\n",
    "            queue.extend(graph[node])\n",
    "\n",
    "    return visit\n",
    "\n",
    "\n",
    "def dfs(graph, start_node):\n",
    "    visit = list()\n",
    "    stack = list()\n",
    "\n",
    "    stack.append(start_node)\n",
    "\n",
    "    while stack:\n",
    "        node = stack.pop()\n",
    "        if node not in visit:\n",
    "            visit.append(node)\n",
    "            stack.extend(graph[node])\n",
    "\n",
    "    return visit\n",
    "\n",
    "\n",
    "if __name__ == \"__main__\":\n",
    "    graph = {\n",
    "        'A': ['B'],\n",
    "        'B': ['A', 'C', 'H'],\n",
    "        'C': ['B', 'D'],\n",
    "        'D': ['C', 'E', 'G'],\n",
    "        'E': ['D', 'F'],\n",
    "        'F': ['E'],\n",
    "        'G': ['D'],\n",
    "        'H': ['B', 'I', 'J', 'M'],\n",
    "        'I': ['H'],\n",
    "        'J': ['H', 'K'],\n",
    "        'K': ['J', 'L'],\n",
    "        'L': ['K'],\n",
    "        'M': ['H']\n",
    "    }\n",
    "\n",
    "    print(bfs(graph, 'A'))\n",
    "    print(dfs(graph, 'A'))"
   ]
  },
  {
   "cell_type": "code",
<<<<<<< HEAD
   "execution_count": 16,
=======
   "execution_count": 39,
>>>>>>> 874a3aee259395a72bf941f93b0617615eeef427
   "metadata": {},
   "outputs": [
    {
     "data": {
      "text/plain": [
       "{'A': ['B'],\n",
       " 'B': ['A', 'C', 'H'],\n",
       " 'C': ['B', 'D'],\n",
       " 'D': ['C', 'E', 'G'],\n",
       " 'E': ['D', 'F'],\n",
       " 'F': ['E'],\n",
       " 'G': ['D'],\n",
       " 'H': ['B', 'I', 'J', 'M'],\n",
       " 'I': ['H'],\n",
       " 'J': ['H', 'K'],\n",
       " 'K': ['J', 'L'],\n",
       " 'L': ['K'],\n",
       " 'M': ['H']}"
      ]
     },
<<<<<<< HEAD
     "execution_count": 16,
=======
     "execution_count": 39,
>>>>>>> 874a3aee259395a72bf941f93b0617615eeef427
     "metadata": {},
     "output_type": "execute_result"
    }
   ],
   "source": [
    "graph"
   ]
  },
  {
   "cell_type": "code",
   "execution_count": null,
   "metadata": {},
   "outputs": [],
   "source": []
  },
  {
   "cell_type": "code",
   "execution_count": null,
   "metadata": {},
   "outputs": [],
   "source": []
  },
  {
<<<<<<< HEAD
   "cell_type": "markdown",
   "metadata": {},
   "source": [
    "# 연습문제\n",
    ": userId가 1인 사람한테 추천하고자하는 영화\n",
    "\n",
    "knn , 상관계수 => 유사한사람 => 추천 점수\n",
    "\n",
    "2. iris 데이터셋에서 4차원 => 2차원 PCA"
   ]
  },
  {
   "cell_type": "code",
   "execution_count": 11,
   "metadata": {},
   "outputs": [],
   "source": [
    "from math import sqrt"
   ]
  },
  {
   "cell_type": "code",
   "execution_count": 5,
   "metadata": {},
   "outputs": [],
   "source": [
    "movies = pd.read_csv('data/movielens/movies.csv')\n",
    "links = pd.read_csv('data/movielens/links.csv')\n",
    "ratings = pd.read_csv('data/movielens/ratings.csv')\n",
    "tags = pd.read_csv('data/movielens/tags.csv')"
   ]
  },
  {
   "cell_type": "code",
   "execution_count": 6,
   "metadata": {},
   "outputs": [],
   "source": [
    "df = pd.pivot_table(index='movieId', columns='userId', values='rating',data=ratings)"
   ]
  },
  {
   "cell_type": "code",
   "execution_count": 7,
   "metadata": {},
   "outputs": [
    {
     "data": {
      "text/html": [
       "<div>\n",
       "<style scoped>\n",
       "    .dataframe tbody tr th:only-of-type {\n",
       "        vertical-align: middle;\n",
       "    }\n",
       "\n",
       "    .dataframe tbody tr th {\n",
       "        vertical-align: top;\n",
       "    }\n",
       "\n",
       "    .dataframe thead th {\n",
       "        text-align: right;\n",
       "    }\n",
       "</style>\n",
       "<table border=\"1\" class=\"dataframe\">\n",
       "  <thead>\n",
       "    <tr style=\"text-align: right;\">\n",
       "      <th>userId</th>\n",
       "      <th>1</th>\n",
       "      <th>2</th>\n",
       "      <th>3</th>\n",
       "      <th>4</th>\n",
       "      <th>5</th>\n",
       "      <th>6</th>\n",
       "      <th>7</th>\n",
       "      <th>8</th>\n",
       "      <th>9</th>\n",
       "      <th>10</th>\n",
       "      <th>...</th>\n",
       "      <th>7111</th>\n",
       "      <th>7112</th>\n",
       "      <th>7113</th>\n",
       "      <th>7114</th>\n",
       "      <th>7115</th>\n",
       "      <th>7116</th>\n",
       "      <th>7117</th>\n",
       "      <th>7118</th>\n",
       "      <th>7119</th>\n",
       "      <th>7120</th>\n",
       "    </tr>\n",
       "    <tr>\n",
       "      <th>movieId</th>\n",
       "      <th></th>\n",
       "      <th></th>\n",
       "      <th></th>\n",
       "      <th></th>\n",
       "      <th></th>\n",
       "      <th></th>\n",
       "      <th></th>\n",
       "      <th></th>\n",
       "      <th></th>\n",
       "      <th></th>\n",
       "      <th></th>\n",
       "      <th></th>\n",
       "      <th></th>\n",
       "      <th></th>\n",
       "      <th></th>\n",
       "      <th></th>\n",
       "      <th></th>\n",
       "      <th></th>\n",
       "      <th></th>\n",
       "      <th></th>\n",
       "      <th></th>\n",
       "    </tr>\n",
       "  </thead>\n",
       "  <tbody>\n",
       "    <tr>\n",
       "      <td>1</td>\n",
       "      <td>NaN</td>\n",
       "      <td>NaN</td>\n",
       "      <td>4.0</td>\n",
       "      <td>NaN</td>\n",
       "      <td>NaN</td>\n",
       "      <td>5.0</td>\n",
       "      <td>NaN</td>\n",
       "      <td>4.0</td>\n",
       "      <td>NaN</td>\n",
       "      <td>4.0</td>\n",
       "      <td>...</td>\n",
       "      <td>NaN</td>\n",
       "      <td>NaN</td>\n",
       "      <td>NaN</td>\n",
       "      <td>NaN</td>\n",
       "      <td>NaN</td>\n",
       "      <td>4.0</td>\n",
       "      <td>4.0</td>\n",
       "      <td>NaN</td>\n",
       "      <td>5.0</td>\n",
       "      <td>4.5</td>\n",
       "    </tr>\n",
       "    <tr>\n",
       "      <td>2</td>\n",
       "      <td>3.5</td>\n",
       "      <td>NaN</td>\n",
       "      <td>NaN</td>\n",
       "      <td>NaN</td>\n",
       "      <td>3.0</td>\n",
       "      <td>NaN</td>\n",
       "      <td>NaN</td>\n",
       "      <td>NaN</td>\n",
       "      <td>NaN</td>\n",
       "      <td>NaN</td>\n",
       "      <td>...</td>\n",
       "      <td>NaN</td>\n",
       "      <td>NaN</td>\n",
       "      <td>NaN</td>\n",
       "      <td>NaN</td>\n",
       "      <td>NaN</td>\n",
       "      <td>NaN</td>\n",
       "      <td>NaN</td>\n",
       "      <td>NaN</td>\n",
       "      <td>NaN</td>\n",
       "      <td>4.0</td>\n",
       "    </tr>\n",
       "    <tr>\n",
       "      <td>3</td>\n",
       "      <td>NaN</td>\n",
       "      <td>4.0</td>\n",
       "      <td>NaN</td>\n",
       "      <td>NaN</td>\n",
       "      <td>NaN</td>\n",
       "      <td>3.0</td>\n",
       "      <td>3.0</td>\n",
       "      <td>5.0</td>\n",
       "      <td>NaN</td>\n",
       "      <td>NaN</td>\n",
       "      <td>...</td>\n",
       "      <td>NaN</td>\n",
       "      <td>NaN</td>\n",
       "      <td>NaN</td>\n",
       "      <td>NaN</td>\n",
       "      <td>NaN</td>\n",
       "      <td>NaN</td>\n",
       "      <td>4.0</td>\n",
       "      <td>NaN</td>\n",
       "      <td>NaN</td>\n",
       "      <td>NaN</td>\n",
       "    </tr>\n",
       "    <tr>\n",
       "      <td>4</td>\n",
       "      <td>NaN</td>\n",
       "      <td>NaN</td>\n",
       "      <td>NaN</td>\n",
       "      <td>NaN</td>\n",
       "      <td>NaN</td>\n",
       "      <td>NaN</td>\n",
       "      <td>NaN</td>\n",
       "      <td>NaN</td>\n",
       "      <td>NaN</td>\n",
       "      <td>NaN</td>\n",
       "      <td>...</td>\n",
       "      <td>NaN</td>\n",
       "      <td>NaN</td>\n",
       "      <td>NaN</td>\n",
       "      <td>NaN</td>\n",
       "      <td>NaN</td>\n",
       "      <td>NaN</td>\n",
       "      <td>NaN</td>\n",
       "      <td>NaN</td>\n",
       "      <td>NaN</td>\n",
       "      <td>NaN</td>\n",
       "    </tr>\n",
       "    <tr>\n",
       "      <td>5</td>\n",
       "      <td>NaN</td>\n",
       "      <td>NaN</td>\n",
       "      <td>NaN</td>\n",
       "      <td>NaN</td>\n",
       "      <td>NaN</td>\n",
       "      <td>NaN</td>\n",
       "      <td>NaN</td>\n",
       "      <td>NaN</td>\n",
       "      <td>NaN</td>\n",
       "      <td>NaN</td>\n",
       "      <td>...</td>\n",
       "      <td>NaN</td>\n",
       "      <td>NaN</td>\n",
       "      <td>NaN</td>\n",
       "      <td>NaN</td>\n",
       "      <td>4.0</td>\n",
       "      <td>3.5</td>\n",
       "      <td>NaN</td>\n",
       "      <td>NaN</td>\n",
       "      <td>NaN</td>\n",
       "      <td>NaN</td>\n",
       "    </tr>\n",
       "    <tr>\n",
       "      <td>...</td>\n",
       "      <td>...</td>\n",
       "      <td>...</td>\n",
       "      <td>...</td>\n",
       "      <td>...</td>\n",
       "      <td>...</td>\n",
       "      <td>...</td>\n",
       "      <td>...</td>\n",
       "      <td>...</td>\n",
       "      <td>...</td>\n",
       "      <td>...</td>\n",
       "      <td>...</td>\n",
       "      <td>...</td>\n",
       "      <td>...</td>\n",
       "      <td>...</td>\n",
       "      <td>...</td>\n",
       "      <td>...</td>\n",
       "      <td>...</td>\n",
       "      <td>...</td>\n",
       "      <td>...</td>\n",
       "      <td>...</td>\n",
       "      <td>...</td>\n",
       "    </tr>\n",
       "    <tr>\n",
       "      <td>130073</td>\n",
       "      <td>NaN</td>\n",
       "      <td>NaN</td>\n",
       "      <td>NaN</td>\n",
       "      <td>NaN</td>\n",
       "      <td>NaN</td>\n",
       "      <td>NaN</td>\n",
       "      <td>NaN</td>\n",
       "      <td>NaN</td>\n",
       "      <td>NaN</td>\n",
       "      <td>NaN</td>\n",
       "      <td>...</td>\n",
       "      <td>NaN</td>\n",
       "      <td>NaN</td>\n",
       "      <td>NaN</td>\n",
       "      <td>NaN</td>\n",
       "      <td>NaN</td>\n",
       "      <td>NaN</td>\n",
       "      <td>NaN</td>\n",
       "      <td>NaN</td>\n",
       "      <td>NaN</td>\n",
       "      <td>NaN</td>\n",
       "    </tr>\n",
       "    <tr>\n",
       "      <td>130219</td>\n",
       "      <td>NaN</td>\n",
       "      <td>NaN</td>\n",
       "      <td>NaN</td>\n",
       "      <td>NaN</td>\n",
       "      <td>NaN</td>\n",
       "      <td>NaN</td>\n",
       "      <td>NaN</td>\n",
       "      <td>NaN</td>\n",
       "      <td>NaN</td>\n",
       "      <td>NaN</td>\n",
       "      <td>...</td>\n",
       "      <td>NaN</td>\n",
       "      <td>NaN</td>\n",
       "      <td>NaN</td>\n",
       "      <td>NaN</td>\n",
       "      <td>NaN</td>\n",
       "      <td>NaN</td>\n",
       "      <td>NaN</td>\n",
       "      <td>NaN</td>\n",
       "      <td>NaN</td>\n",
       "      <td>NaN</td>\n",
       "    </tr>\n",
       "    <tr>\n",
       "      <td>130462</td>\n",
       "      <td>NaN</td>\n",
       "      <td>NaN</td>\n",
       "      <td>NaN</td>\n",
       "      <td>NaN</td>\n",
       "      <td>NaN</td>\n",
       "      <td>NaN</td>\n",
       "      <td>NaN</td>\n",
       "      <td>NaN</td>\n",
       "      <td>NaN</td>\n",
       "      <td>NaN</td>\n",
       "      <td>...</td>\n",
       "      <td>NaN</td>\n",
       "      <td>NaN</td>\n",
       "      <td>NaN</td>\n",
       "      <td>NaN</td>\n",
       "      <td>NaN</td>\n",
       "      <td>NaN</td>\n",
       "      <td>NaN</td>\n",
       "      <td>NaN</td>\n",
       "      <td>NaN</td>\n",
       "      <td>NaN</td>\n",
       "    </tr>\n",
       "    <tr>\n",
       "      <td>130490</td>\n",
       "      <td>NaN</td>\n",
       "      <td>NaN</td>\n",
       "      <td>NaN</td>\n",
       "      <td>NaN</td>\n",
       "      <td>NaN</td>\n",
       "      <td>NaN</td>\n",
       "      <td>NaN</td>\n",
       "      <td>NaN</td>\n",
       "      <td>NaN</td>\n",
       "      <td>NaN</td>\n",
       "      <td>...</td>\n",
       "      <td>NaN</td>\n",
       "      <td>NaN</td>\n",
       "      <td>NaN</td>\n",
       "      <td>NaN</td>\n",
       "      <td>NaN</td>\n",
       "      <td>NaN</td>\n",
       "      <td>NaN</td>\n",
       "      <td>NaN</td>\n",
       "      <td>NaN</td>\n",
       "      <td>NaN</td>\n",
       "    </tr>\n",
       "    <tr>\n",
       "      <td>130642</td>\n",
       "      <td>NaN</td>\n",
       "      <td>NaN</td>\n",
       "      <td>NaN</td>\n",
       "      <td>NaN</td>\n",
       "      <td>NaN</td>\n",
       "      <td>NaN</td>\n",
       "      <td>NaN</td>\n",
       "      <td>NaN</td>\n",
       "      <td>NaN</td>\n",
       "      <td>NaN</td>\n",
       "      <td>...</td>\n",
       "      <td>NaN</td>\n",
       "      <td>NaN</td>\n",
       "      <td>NaN</td>\n",
       "      <td>NaN</td>\n",
       "      <td>NaN</td>\n",
       "      <td>NaN</td>\n",
       "      <td>NaN</td>\n",
       "      <td>NaN</td>\n",
       "      <td>NaN</td>\n",
       "      <td>NaN</td>\n",
       "    </tr>\n",
       "  </tbody>\n",
       "</table>\n",
       "<p>14026 rows × 7120 columns</p>\n",
       "</div>"
      ],
      "text/plain": [
       "userId   1     2     3     4     5     6     7     8     9     10    ...  \\\n",
       "movieId                                                              ...   \n",
       "1         NaN   NaN   4.0   NaN   NaN   5.0   NaN   4.0   NaN   4.0  ...   \n",
       "2         3.5   NaN   NaN   NaN   3.0   NaN   NaN   NaN   NaN   NaN  ...   \n",
       "3         NaN   4.0   NaN   NaN   NaN   3.0   3.0   5.0   NaN   NaN  ...   \n",
       "4         NaN   NaN   NaN   NaN   NaN   NaN   NaN   NaN   NaN   NaN  ...   \n",
       "5         NaN   NaN   NaN   NaN   NaN   NaN   NaN   NaN   NaN   NaN  ...   \n",
       "...       ...   ...   ...   ...   ...   ...   ...   ...   ...   ...  ...   \n",
       "130073    NaN   NaN   NaN   NaN   NaN   NaN   NaN   NaN   NaN   NaN  ...   \n",
       "130219    NaN   NaN   NaN   NaN   NaN   NaN   NaN   NaN   NaN   NaN  ...   \n",
       "130462    NaN   NaN   NaN   NaN   NaN   NaN   NaN   NaN   NaN   NaN  ...   \n",
       "130490    NaN   NaN   NaN   NaN   NaN   NaN   NaN   NaN   NaN   NaN  ...   \n",
       "130642    NaN   NaN   NaN   NaN   NaN   NaN   NaN   NaN   NaN   NaN  ...   \n",
       "\n",
       "userId   7111  7112  7113  7114  7115  7116  7117  7118  7119  7120  \n",
       "movieId                                                              \n",
       "1         NaN   NaN   NaN   NaN   NaN   4.0   4.0   NaN   5.0   4.5  \n",
       "2         NaN   NaN   NaN   NaN   NaN   NaN   NaN   NaN   NaN   4.0  \n",
       "3         NaN   NaN   NaN   NaN   NaN   NaN   4.0   NaN   NaN   NaN  \n",
       "4         NaN   NaN   NaN   NaN   NaN   NaN   NaN   NaN   NaN   NaN  \n",
       "5         NaN   NaN   NaN   NaN   4.0   3.5   NaN   NaN   NaN   NaN  \n",
       "...       ...   ...   ...   ...   ...   ...   ...   ...   ...   ...  \n",
       "130073    NaN   NaN   NaN   NaN   NaN   NaN   NaN   NaN   NaN   NaN  \n",
       "130219    NaN   NaN   NaN   NaN   NaN   NaN   NaN   NaN   NaN   NaN  \n",
       "130462    NaN   NaN   NaN   NaN   NaN   NaN   NaN   NaN   NaN   NaN  \n",
       "130490    NaN   NaN   NaN   NaN   NaN   NaN   NaN   NaN   NaN   NaN  \n",
       "130642    NaN   NaN   NaN   NaN   NaN   NaN   NaN   NaN   NaN   NaN  \n",
       "\n",
       "[14026 rows x 7120 columns]"
      ]
     },
     "execution_count": 7,
     "metadata": {},
     "output_type": "execute_result"
    }
   ],
   "source": [
    "df"
   ]
  },
  {
   "cell_type": "code",
   "execution_count": 43,
   "metadata": {},
   "outputs": [],
   "source": [
    "df_nn = df.fillna(0)"
   ]
  },
  {
   "cell_type": "code",
   "execution_count": 44,
   "metadata": {},
   "outputs": [
    {
     "data": {
      "text/html": [
       "<div>\n",
       "<style scoped>\n",
       "    .dataframe tbody tr th:only-of-type {\n",
       "        vertical-align: middle;\n",
       "    }\n",
       "\n",
       "    .dataframe tbody tr th {\n",
       "        vertical-align: top;\n",
       "    }\n",
       "\n",
       "    .dataframe thead th {\n",
       "        text-align: right;\n",
       "    }\n",
       "</style>\n",
       "<table border=\"1\" class=\"dataframe\">\n",
       "  <thead>\n",
       "    <tr style=\"text-align: right;\">\n",
       "      <th>userId</th>\n",
       "      <th>1</th>\n",
       "      <th>2</th>\n",
       "      <th>3</th>\n",
       "      <th>4</th>\n",
       "      <th>5</th>\n",
       "      <th>6</th>\n",
       "      <th>7</th>\n",
       "      <th>8</th>\n",
       "      <th>9</th>\n",
       "      <th>10</th>\n",
       "      <th>...</th>\n",
       "      <th>91</th>\n",
       "      <th>92</th>\n",
       "      <th>93</th>\n",
       "      <th>94</th>\n",
       "      <th>95</th>\n",
       "      <th>96</th>\n",
       "      <th>97</th>\n",
       "      <th>98</th>\n",
       "      <th>99</th>\n",
       "      <th>100</th>\n",
       "    </tr>\n",
       "    <tr>\n",
       "      <th>movieId</th>\n",
       "      <th></th>\n",
       "      <th></th>\n",
       "      <th></th>\n",
       "      <th></th>\n",
       "      <th></th>\n",
       "      <th></th>\n",
       "      <th></th>\n",
       "      <th></th>\n",
       "      <th></th>\n",
       "      <th></th>\n",
       "      <th></th>\n",
       "      <th></th>\n",
       "      <th></th>\n",
       "      <th></th>\n",
       "      <th></th>\n",
       "      <th></th>\n",
       "      <th></th>\n",
       "      <th></th>\n",
       "      <th></th>\n",
       "      <th></th>\n",
       "      <th></th>\n",
       "    </tr>\n",
       "  </thead>\n",
       "  <tbody>\n",
       "    <tr>\n",
       "      <td>1</td>\n",
       "      <td>0.0</td>\n",
       "      <td>0.0</td>\n",
       "      <td>4.0</td>\n",
       "      <td>0.0</td>\n",
       "      <td>0.0</td>\n",
       "      <td>5.0</td>\n",
       "      <td>0.0</td>\n",
       "      <td>4.0</td>\n",
       "      <td>0.0</td>\n",
       "      <td>4.0</td>\n",
       "      <td>...</td>\n",
       "      <td>4.0</td>\n",
       "      <td>0.0</td>\n",
       "      <td>5.0</td>\n",
       "      <td>0.0</td>\n",
       "      <td>0.0</td>\n",
       "      <td>3.5</td>\n",
       "      <td>4.0</td>\n",
       "      <td>0.0</td>\n",
       "      <td>4.0</td>\n",
       "      <td>0.0</td>\n",
       "    </tr>\n",
       "    <tr>\n",
       "      <td>2</td>\n",
       "      <td>3.5</td>\n",
       "      <td>0.0</td>\n",
       "      <td>0.0</td>\n",
       "      <td>0.0</td>\n",
       "      <td>3.0</td>\n",
       "      <td>0.0</td>\n",
       "      <td>0.0</td>\n",
       "      <td>0.0</td>\n",
       "      <td>0.0</td>\n",
       "      <td>0.0</td>\n",
       "      <td>...</td>\n",
       "      <td>3.5</td>\n",
       "      <td>0.0</td>\n",
       "      <td>0.0</td>\n",
       "      <td>0.0</td>\n",
       "      <td>0.0</td>\n",
       "      <td>0.0</td>\n",
       "      <td>0.0</td>\n",
       "      <td>0.0</td>\n",
       "      <td>0.0</td>\n",
       "      <td>0.0</td>\n",
       "    </tr>\n",
       "    <tr>\n",
       "      <td>3</td>\n",
       "      <td>0.0</td>\n",
       "      <td>4.0</td>\n",
       "      <td>0.0</td>\n",
       "      <td>0.0</td>\n",
       "      <td>0.0</td>\n",
       "      <td>3.0</td>\n",
       "      <td>3.0</td>\n",
       "      <td>5.0</td>\n",
       "      <td>0.0</td>\n",
       "      <td>0.0</td>\n",
       "      <td>...</td>\n",
       "      <td>3.0</td>\n",
       "      <td>0.0</td>\n",
       "      <td>0.0</td>\n",
       "      <td>0.0</td>\n",
       "      <td>0.0</td>\n",
       "      <td>4.0</td>\n",
       "      <td>0.0</td>\n",
       "      <td>0.0</td>\n",
       "      <td>0.0</td>\n",
       "      <td>0.0</td>\n",
       "    </tr>\n",
       "    <tr>\n",
       "      <td>4</td>\n",
       "      <td>0.0</td>\n",
       "      <td>0.0</td>\n",
       "      <td>0.0</td>\n",
       "      <td>0.0</td>\n",
       "      <td>0.0</td>\n",
       "      <td>0.0</td>\n",
       "      <td>0.0</td>\n",
       "      <td>0.0</td>\n",
       "      <td>0.0</td>\n",
       "      <td>0.0</td>\n",
       "      <td>...</td>\n",
       "      <td>0.0</td>\n",
       "      <td>0.0</td>\n",
       "      <td>0.0</td>\n",
       "      <td>0.0</td>\n",
       "      <td>0.0</td>\n",
       "      <td>0.0</td>\n",
       "      <td>0.0</td>\n",
       "      <td>0.0</td>\n",
       "      <td>0.0</td>\n",
       "      <td>0.0</td>\n",
       "    </tr>\n",
       "    <tr>\n",
       "      <td>5</td>\n",
       "      <td>0.0</td>\n",
       "      <td>0.0</td>\n",
       "      <td>0.0</td>\n",
       "      <td>0.0</td>\n",
       "      <td>0.0</td>\n",
       "      <td>0.0</td>\n",
       "      <td>0.0</td>\n",
       "      <td>0.0</td>\n",
       "      <td>0.0</td>\n",
       "      <td>0.0</td>\n",
       "      <td>...</td>\n",
       "      <td>0.0</td>\n",
       "      <td>0.0</td>\n",
       "      <td>0.0</td>\n",
       "      <td>0.0</td>\n",
       "      <td>0.0</td>\n",
       "      <td>0.0</td>\n",
       "      <td>0.0</td>\n",
       "      <td>0.0</td>\n",
       "      <td>0.0</td>\n",
       "      <td>0.0</td>\n",
       "    </tr>\n",
       "    <tr>\n",
       "      <td>...</td>\n",
       "      <td>...</td>\n",
       "      <td>...</td>\n",
       "      <td>...</td>\n",
       "      <td>...</td>\n",
       "      <td>...</td>\n",
       "      <td>...</td>\n",
       "      <td>...</td>\n",
       "      <td>...</td>\n",
       "      <td>...</td>\n",
       "      <td>...</td>\n",
       "      <td>...</td>\n",
       "      <td>...</td>\n",
       "      <td>...</td>\n",
       "      <td>...</td>\n",
       "      <td>...</td>\n",
       "      <td>...</td>\n",
       "      <td>...</td>\n",
       "      <td>...</td>\n",
       "      <td>...</td>\n",
       "      <td>...</td>\n",
       "      <td>...</td>\n",
       "    </tr>\n",
       "    <tr>\n",
       "      <td>4996</td>\n",
       "      <td>0.0</td>\n",
       "      <td>0.0</td>\n",
       "      <td>0.0</td>\n",
       "      <td>0.0</td>\n",
       "      <td>0.0</td>\n",
       "      <td>0.0</td>\n",
       "      <td>0.0</td>\n",
       "      <td>0.0</td>\n",
       "      <td>0.0</td>\n",
       "      <td>0.0</td>\n",
       "      <td>...</td>\n",
       "      <td>0.0</td>\n",
       "      <td>0.0</td>\n",
       "      <td>0.0</td>\n",
       "      <td>0.0</td>\n",
       "      <td>0.0</td>\n",
       "      <td>0.0</td>\n",
       "      <td>0.0</td>\n",
       "      <td>0.0</td>\n",
       "      <td>0.0</td>\n",
       "      <td>0.0</td>\n",
       "    </tr>\n",
       "    <tr>\n",
       "      <td>4997</td>\n",
       "      <td>0.0</td>\n",
       "      <td>0.0</td>\n",
       "      <td>0.0</td>\n",
       "      <td>0.0</td>\n",
       "      <td>0.0</td>\n",
       "      <td>0.0</td>\n",
       "      <td>0.0</td>\n",
       "      <td>0.0</td>\n",
       "      <td>0.0</td>\n",
       "      <td>0.0</td>\n",
       "      <td>...</td>\n",
       "      <td>0.0</td>\n",
       "      <td>0.0</td>\n",
       "      <td>0.0</td>\n",
       "      <td>0.0</td>\n",
       "      <td>0.0</td>\n",
       "      <td>0.0</td>\n",
       "      <td>0.0</td>\n",
       "      <td>0.0</td>\n",
       "      <td>0.0</td>\n",
       "      <td>0.0</td>\n",
       "    </tr>\n",
       "    <tr>\n",
       "      <td>4998</td>\n",
       "      <td>0.0</td>\n",
       "      <td>0.0</td>\n",
       "      <td>0.0</td>\n",
       "      <td>0.0</td>\n",
       "      <td>0.0</td>\n",
       "      <td>0.0</td>\n",
       "      <td>0.0</td>\n",
       "      <td>0.0</td>\n",
       "      <td>0.0</td>\n",
       "      <td>0.0</td>\n",
       "      <td>...</td>\n",
       "      <td>0.0</td>\n",
       "      <td>0.0</td>\n",
       "      <td>0.0</td>\n",
       "      <td>0.0</td>\n",
       "      <td>0.0</td>\n",
       "      <td>0.0</td>\n",
       "      <td>0.0</td>\n",
       "      <td>0.0</td>\n",
       "      <td>0.0</td>\n",
       "      <td>0.0</td>\n",
       "    </tr>\n",
       "    <tr>\n",
       "      <td>4999</td>\n",
       "      <td>0.0</td>\n",
       "      <td>0.0</td>\n",
       "      <td>0.0</td>\n",
       "      <td>0.0</td>\n",
       "      <td>0.0</td>\n",
       "      <td>0.0</td>\n",
       "      <td>0.0</td>\n",
       "      <td>0.0</td>\n",
       "      <td>0.0</td>\n",
       "      <td>0.0</td>\n",
       "      <td>...</td>\n",
       "      <td>0.0</td>\n",
       "      <td>0.0</td>\n",
       "      <td>0.0</td>\n",
       "      <td>0.0</td>\n",
       "      <td>0.0</td>\n",
       "      <td>0.0</td>\n",
       "      <td>0.0</td>\n",
       "      <td>0.0</td>\n",
       "      <td>0.0</td>\n",
       "      <td>0.0</td>\n",
       "    </tr>\n",
       "    <tr>\n",
       "      <td>5000</td>\n",
       "      <td>0.0</td>\n",
       "      <td>0.0</td>\n",
       "      <td>0.0</td>\n",
       "      <td>0.0</td>\n",
       "      <td>0.0</td>\n",
       "      <td>0.0</td>\n",
       "      <td>0.0</td>\n",
       "      <td>0.0</td>\n",
       "      <td>0.0</td>\n",
       "      <td>0.0</td>\n",
       "      <td>...</td>\n",
       "      <td>0.0</td>\n",
       "      <td>0.0</td>\n",
       "      <td>0.0</td>\n",
       "      <td>0.0</td>\n",
       "      <td>0.0</td>\n",
       "      <td>0.0</td>\n",
       "      <td>0.0</td>\n",
       "      <td>0.0</td>\n",
       "      <td>0.0</td>\n",
       "      <td>0.0</td>\n",
       "    </tr>\n",
       "  </tbody>\n",
       "</table>\n",
       "<p>4746 rows × 100 columns</p>\n",
       "</div>"
      ],
      "text/plain": [
       "userId   1    2    3    4    5    6    7    8    9    10   ...  91   92   93   \\\n",
       "movieId                                                    ...                  \n",
       "1        0.0  0.0  4.0  0.0  0.0  5.0  0.0  4.0  0.0  4.0  ...  4.0  0.0  5.0   \n",
       "2        3.5  0.0  0.0  0.0  3.0  0.0  0.0  0.0  0.0  0.0  ...  3.5  0.0  0.0   \n",
       "3        0.0  4.0  0.0  0.0  0.0  3.0  3.0  5.0  0.0  0.0  ...  3.0  0.0  0.0   \n",
       "4        0.0  0.0  0.0  0.0  0.0  0.0  0.0  0.0  0.0  0.0  ...  0.0  0.0  0.0   \n",
       "5        0.0  0.0  0.0  0.0  0.0  0.0  0.0  0.0  0.0  0.0  ...  0.0  0.0  0.0   \n",
       "...      ...  ...  ...  ...  ...  ...  ...  ...  ...  ...  ...  ...  ...  ...   \n",
       "4996     0.0  0.0  0.0  0.0  0.0  0.0  0.0  0.0  0.0  0.0  ...  0.0  0.0  0.0   \n",
       "4997     0.0  0.0  0.0  0.0  0.0  0.0  0.0  0.0  0.0  0.0  ...  0.0  0.0  0.0   \n",
       "4998     0.0  0.0  0.0  0.0  0.0  0.0  0.0  0.0  0.0  0.0  ...  0.0  0.0  0.0   \n",
       "4999     0.0  0.0  0.0  0.0  0.0  0.0  0.0  0.0  0.0  0.0  ...  0.0  0.0  0.0   \n",
       "5000     0.0  0.0  0.0  0.0  0.0  0.0  0.0  0.0  0.0  0.0  ...  0.0  0.0  0.0   \n",
       "\n",
       "userId   94   95   96   97   98   99   100  \n",
       "movieId                                     \n",
       "1        0.0  0.0  3.5  4.0  0.0  4.0  0.0  \n",
       "2        0.0  0.0  0.0  0.0  0.0  0.0  0.0  \n",
       "3        0.0  0.0  4.0  0.0  0.0  0.0  0.0  \n",
       "4        0.0  0.0  0.0  0.0  0.0  0.0  0.0  \n",
       "5        0.0  0.0  0.0  0.0  0.0  0.0  0.0  \n",
       "...      ...  ...  ...  ...  ...  ...  ...  \n",
       "4996     0.0  0.0  0.0  0.0  0.0  0.0  0.0  \n",
       "4997     0.0  0.0  0.0  0.0  0.0  0.0  0.0  \n",
       "4998     0.0  0.0  0.0  0.0  0.0  0.0  0.0  \n",
       "4999     0.0  0.0  0.0  0.0  0.0  0.0  0.0  \n",
       "5000     0.0  0.0  0.0  0.0  0.0  0.0  0.0  \n",
       "\n",
       "[4746 rows x 100 columns]"
      ]
     },
     "execution_count": 44,
     "metadata": {},
     "output_type": "execute_result"
    }
   ],
   "source": [
    "df_nn = df_nn.ix[:5000,:100]\n",
    "df_nn"
   ]
  },
  {
   "cell_type": "code",
   "execution_count": 38,
   "metadata": {
    "scrolled": true
   },
   "outputs": [
    {
     "data": {
      "text/plain": [
       "0.28172904669025317"
      ]
     },
     "execution_count": 38,
     "metadata": {},
     "output_type": "execute_result"
    }
   ],
   "source": [
    "# 유클리디안 거리 : 다차원 공간에서 두 점 사이의 거리\n",
    "def sim_distance(data, name1, name2):\n",
    "    # 구현부분\n",
    "    dis = 0\n",
    "    for i in dict(data[name1]) :\n",
    "        if (data[name1][i] != 0) & (data[name2][i] != 0):\n",
    "            dis += pow(data[name1][i] - data[name2][i],2)\n",
    "    # 유사도로 변환해서 출력\n",
    "    return 1/(sqrt(dis)+1)\n",
    "\n",
    "sim_distance(df_nn,1,4)"
   ]
  },
  {
   "cell_type": "code",
   "execution_count": 48,
   "metadata": {},
   "outputs": [
    {
     "name": "stdout",
     "output_type": "stream",
     "text": [
      "[(0.6666666666666666, 37), (0.585786437626905, 59), (0.5, 6), (0.4494897427831781, 12), (0.43050087404306037, 86)]\n"
     ]
    }
   ],
   "source": [
    "# 데이터, 기준관객, 등수, 유사도함수 : sim_distance함수를 simf라는이름으로 사용하겠다.\n",
    "def top_match(data, name, rank=3, simf = sim_distance):\n",
    "    \n",
    "    simList = []\n",
    "    \n",
    "    for i in data.columns:\n",
    "        if i != name:\n",
    "            simList.append((simf(data, name, i), i ))\n",
    "    simList.sort()    # 오름차순정렬\n",
    "    simList.reverse() # 내림차순으로 변경\n",
    "    \n",
    "    return simList[:rank]\n",
    "\n",
    "# df_nn에서 1번 유저와 공통으로 본 영화 중에서 가장 유사하게 평점을 준 관객 5명을 출력\n",
    "print(top_match(df_nn,1, 5))"
   ]
  },
  {
   "cell_type": "code",
   "execution_count": 50,
   "metadata": {},
   "outputs": [
    {
     "name": "stdout",
     "output_type": "stream",
     "text": [
      "[0.6666666666666666, 0.585786437626905, 0.5, 0.4494897427831781, 0.43050087404306037]\n",
      "[37, 59, 6, 12, 86]\n"
     ]
    },
    {
     "data": {
      "image/png": "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\n",
      "text/plain": [
       "<Figure size 432x288 with 1 Axes>"
      ]
     },
     "metadata": {
      "needs_background": "light"
     },
     "output_type": "display_data"
    }
   ],
   "source": [
    "def myBar(data, lab):\n",
    "    # 시각화\n",
    "    pos = range(len(data))\n",
    "    plt.barh(pos, data, height=0.5, color='b')  # 가로\n",
    "    plt.yticks(pos,lab)\n",
    "    plt.show()\n",
    "    \n",
    "# 튜플 분리\n",
    "li = top_match(df_nn,1,5)\n",
    "scoreList = []\n",
    "nameList = []\n",
    "\n",
    "for i in li :\n",
    "    scoreList.append(i[0])\n",
    "    nameList.append(i[1])\n",
    "    \n",
    "print(scoreList)\n",
    "print(nameList)\n",
    "\n",
    "myBar(scoreList,nameList)"
   ]
  },
  {
   "cell_type": "code",
   "execution_count": 52,
   "metadata": {},
   "outputs": [
    {
     "data": {
      "image/png": "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\n",
      "text/plain": [
       "<Figure size 1008x576 with 1 Axes>"
      ]
     },
     "metadata": {
      "needs_background": "light"
     },
     "output_type": "display_data"
    }
   ],
   "source": [
    "def scoreGraph(data, n1, n2):\n",
    "    # 스캐터플롯 출력\n",
    "    plt.figure(figsize=(14,8))\n",
    "    li1 = []\n",
    "    li2 = []\n",
    "    for i in dict(data[n1]) :\n",
    "        if (data[n1][i] != 0) & (data[n2][i] != 0):\n",
    "            li1.append(data[n1][i])\n",
    "            li2.append(data[n2][i])\n",
    "            plt.text(data[n1][i], data[n2][i], i, fontsize=12)\n",
    "            \n",
    "    plt.plot(li1, li2, 'ro')\n",
    "    plt.xlabel(n1)\n",
    "    plt.ylabel(n2)\n",
    "    plt.axis([0,6,0,6])\n",
    "    plt.show()\n",
    "    \n",
    "scoreGraph(df_nn, 1, 5)"
   ]
  },
  {
   "cell_type": "code",
   "execution_count": 53,
   "metadata": {},
   "outputs": [
    {
     "data": {
      "text/plain": [
       "0.4678061590844079"
      ]
     },
     "execution_count": 53,
     "metadata": {},
     "output_type": "execute_result"
    }
   ],
   "source": [
    "def sim_pearson(data, n1, n2):\n",
    "    # 구현\n",
    "    sumX = 0\n",
    "    sumY = 0\n",
    "    sumSqX = 0\n",
    "    sumSqY = 0\n",
    "    sumXY = 0\n",
    "    cnt = 0\n",
    "    \n",
    "    for i in dict(data[n1]) :\n",
    "        if (data[n1][i] != 0) & (data[n2][i] != 0):\n",
    "            sumX += data[n1][i]\n",
    "            sumY += data[n2][i]\n",
    "            sumSqX += pow(data[n1][i], 2)\n",
    "            sumSqY += pow(data[n2][i], 2)\n",
    "            sumXY += (data[n1][i] *  data[n2][i])\n",
    "            cnt += 1\n",
    "    \n",
    "    return  ((sumXY-((sumX*sumY)/cnt))+0.001) / (sqrt((sumSqX-(pow(sumX,2)/cnt))*(sumSqY-(pow(sumY,2)/cnt)))+0.001)\n",
    "\n",
    "sim_pearson(df_nn,1,5)"
   ]
  },
  {
   "cell_type": "code",
   "execution_count": 54,
   "metadata": {},
   "outputs": [
    {
     "name": "stdout",
     "output_type": "stream",
     "text": [
      "[(1.0000000000000027, 52), (1.0, 97), (1.0, 94), (1.0, 81), (1.0, 80)]\n"
     ]
    }
   ],
   "source": [
    "# 전체 관객들에 대한 상관계수\n",
    "\n",
    "def top_match(data, name, rank=3, simf = sim_pearson):\n",
    "    \n",
    "    simList = []\n",
    "    \n",
    "    for i in data.columns:\n",
    "        if i != name:\n",
    "            simList.append((simf(data, name, i), i ))\n",
    "            \n",
    "    simList.sort()    # 오름차순정렬\n",
    "    simList.reverse() # 내림차순으로 변경\n",
    "    \n",
    "    return simList[:rank]\n",
    "\n",
    "# df_nn에서 1번 유저와 공통으로 본 영화 중에서 상관계수가 가장 높은 5명을 추출\n",
    "print(top_match(df_nn,1,5))"
   ]
  },
  {
   "cell_type": "code",
   "execution_count": 56,
   "metadata": {},
   "outputs": [
    {
     "data": {
      "text/plain": [
       "[(5.000000000000001, 2301), (5.0, 4790), (5.0, 4705), (5.0, 4534), (5.0, 4387)]"
      ]
     },
     "execution_count": 56,
     "metadata": {},
     "output_type": "execute_result"
    }
   ],
   "source": [
    "def recommendation(data, person, simf=sim_pearson):\n",
    "    res = top_match(data, person, len(data))\n",
    "    # print(res)\n",
    "    \n",
    "    simSum = 0\n",
    "    score_dict = {}  # 예상평점의 총합을 저장하기위한 dict\n",
    "    sim_dict = {}    # 유사도의 총합을 저장하기 위한 dict\n",
    "    \n",
    "    myList = []\n",
    "    \n",
    "    for sim, name in res:\n",
    "        if sim < 0 : continue\n",
    "        for movie in dict(data[name]):\n",
    "            if (data[name][movie] != 0) & (data[person][movie] == 0):\n",
    "                simSum += sim * data[name][movie]\n",
    "                score_dict.setdefault(movie, 0 )\n",
    "                score_dict[movie] += simSum\n",
    "                \n",
    "                sim_dict.setdefault(movie, 0 )\n",
    "                sim_dict[movie] += sim\n",
    "            simSum = 0\n",
    "    \n",
    "    for key in score_dict:\n",
    "        score_dict[key] = score_dict[key] / sim_dict[key]\n",
    "        myList.append((score_dict[key], key))\n",
    "    myList.sort()\n",
    "    myList.reverse()\n",
    "    \n",
    "    top5 = []\n",
    "    \n",
    "    for i in myList[:5]:\n",
    "        movies[movies['movieId']== i[1]]\n",
    "    \n",
    "    return myList[:5]\n",
    "\n",
    "recommendation(df_nn,1)\n",
    "# 1번 유저가 안 본 영화중에서 예상 평점이 가장 높은 영화 5편 출력"
   ]
  },
  {
   "cell_type": "code",
   "execution_count": null,
   "metadata": {},
   "outputs": [],
   "source": [
    "import seaborn as sns"
   ]
  },
  {
   "cell_type": "code",
   "execution_count": 2,
   "metadata": {},
   "outputs": [
    {
     "data": {
      "text/html": [
       "<div>\n",
       "<style scoped>\n",
       "    .dataframe tbody tr th:only-of-type {\n",
       "        vertical-align: middle;\n",
       "    }\n",
       "\n",
       "    .dataframe tbody tr th {\n",
       "        vertical-align: top;\n",
       "    }\n",
       "\n",
       "    .dataframe thead th {\n",
       "        text-align: right;\n",
       "    }\n",
       "</style>\n",
       "<table border=\"1\" class=\"dataframe\">\n",
       "  <thead>\n",
       "    <tr style=\"text-align: right;\">\n",
       "      <th></th>\n",
       "      <th>sepal_length</th>\n",
       "      <th>sepal_width</th>\n",
       "      <th>petal_length</th>\n",
       "      <th>petal_width</th>\n",
       "      <th>species</th>\n",
       "    </tr>\n",
       "  </thead>\n",
       "  <tbody>\n",
       "    <tr>\n",
       "      <td>0</td>\n",
       "      <td>5.1</td>\n",
       "      <td>3.5</td>\n",
       "      <td>1.4</td>\n",
       "      <td>0.2</td>\n",
       "      <td>setosa</td>\n",
       "    </tr>\n",
       "    <tr>\n",
       "      <td>1</td>\n",
       "      <td>4.9</td>\n",
       "      <td>3.0</td>\n",
       "      <td>1.4</td>\n",
       "      <td>0.2</td>\n",
       "      <td>setosa</td>\n",
       "    </tr>\n",
       "    <tr>\n",
       "      <td>2</td>\n",
       "      <td>4.7</td>\n",
       "      <td>3.2</td>\n",
       "      <td>1.3</td>\n",
       "      <td>0.2</td>\n",
       "      <td>setosa</td>\n",
       "    </tr>\n",
       "    <tr>\n",
       "      <td>3</td>\n",
       "      <td>4.6</td>\n",
       "      <td>3.1</td>\n",
       "      <td>1.5</td>\n",
       "      <td>0.2</td>\n",
       "      <td>setosa</td>\n",
       "    </tr>\n",
       "    <tr>\n",
       "      <td>4</td>\n",
       "      <td>5.0</td>\n",
       "      <td>3.6</td>\n",
       "      <td>1.4</td>\n",
       "      <td>0.2</td>\n",
       "      <td>setosa</td>\n",
       "    </tr>\n",
       "    <tr>\n",
       "      <td>...</td>\n",
       "      <td>...</td>\n",
       "      <td>...</td>\n",
       "      <td>...</td>\n",
       "      <td>...</td>\n",
       "      <td>...</td>\n",
       "    </tr>\n",
       "    <tr>\n",
       "      <td>145</td>\n",
       "      <td>6.7</td>\n",
       "      <td>3.0</td>\n",
       "      <td>5.2</td>\n",
       "      <td>2.3</td>\n",
       "      <td>virginica</td>\n",
       "    </tr>\n",
       "    <tr>\n",
       "      <td>146</td>\n",
       "      <td>6.3</td>\n",
       "      <td>2.5</td>\n",
       "      <td>5.0</td>\n",
       "      <td>1.9</td>\n",
       "      <td>virginica</td>\n",
       "    </tr>\n",
       "    <tr>\n",
       "      <td>147</td>\n",
       "      <td>6.5</td>\n",
       "      <td>3.0</td>\n",
       "      <td>5.2</td>\n",
       "      <td>2.0</td>\n",
       "      <td>virginica</td>\n",
       "    </tr>\n",
       "    <tr>\n",
       "      <td>148</td>\n",
       "      <td>6.2</td>\n",
       "      <td>3.4</td>\n",
       "      <td>5.4</td>\n",
       "      <td>2.3</td>\n",
       "      <td>virginica</td>\n",
       "    </tr>\n",
       "    <tr>\n",
       "      <td>149</td>\n",
       "      <td>5.9</td>\n",
       "      <td>3.0</td>\n",
       "      <td>5.1</td>\n",
       "      <td>1.8</td>\n",
       "      <td>virginica</td>\n",
       "    </tr>\n",
       "  </tbody>\n",
       "</table>\n",
       "<p>150 rows × 5 columns</p>\n",
       "</div>"
      ],
      "text/plain": [
       "     sepal_length  sepal_width  petal_length  petal_width    species\n",
       "0             5.1          3.5           1.4          0.2     setosa\n",
       "1             4.9          3.0           1.4          0.2     setosa\n",
       "2             4.7          3.2           1.3          0.2     setosa\n",
       "3             4.6          3.1           1.5          0.2     setosa\n",
       "4             5.0          3.6           1.4          0.2     setosa\n",
       "..            ...          ...           ...          ...        ...\n",
       "145           6.7          3.0           5.2          2.3  virginica\n",
       "146           6.3          2.5           5.0          1.9  virginica\n",
       "147           6.5          3.0           5.2          2.0  virginica\n",
       "148           6.2          3.4           5.4          2.3  virginica\n",
       "149           5.9          3.0           5.1          1.8  virginica\n",
       "\n",
       "[150 rows x 5 columns]"
      ]
     },
     "execution_count": 2,
     "metadata": {},
     "output_type": "execute_result"
    }
   ],
   "source": [
    "iris = sns.load_dataset('iris')\n",
    "iris"
   ]
  },
  {
   "cell_type": "code",
   "execution_count": 3,
   "metadata": {},
   "outputs": [],
   "source": [
    "from sklearn.preprocessing import StandardScaler"
   ]
  },
  {
   "cell_type": "code",
   "execution_count": 4,
   "metadata": {},
   "outputs": [],
   "source": [
    "scaler = StandardScaler()"
   ]
  },
  {
   "cell_type": "code",
   "execution_count": 5,
   "metadata": {},
   "outputs": [],
   "source": [
    "X = iris.ix[:,:4]\n",
    "Y = iris.ix[:,4]"
   ]
  },
  {
   "cell_type": "code",
   "execution_count": 6,
   "metadata": {},
   "outputs": [],
   "source": [
    "x_std = scaler.fit_transform(X)\n",
    "x_std\n",
    "\n",
    "f1 = x_std[:,[0,1]]\n",
    "f2 = x_std[:,[2,3]]\n",
    "\n",
    "tf1 = f1.T\n",
    "tf2 = f2.T"
   ]
  },
  {
   "cell_type": "code",
   "execution_count": 7,
   "metadata": {},
   "outputs": [
    {
     "data": {
      "text/plain": [
       "array([[ 1.00671141, -0.11835884],\n",
       "       [-0.11835884,  1.00671141]])"
      ]
     },
     "execution_count": 7,
     "metadata": {},
     "output_type": "execute_result"
    }
   ],
   "source": [
    "np.cov(tf1)"
   ]
  },
  {
   "cell_type": "code",
   "execution_count": 8,
   "metadata": {},
   "outputs": [
    {
     "name": "stdout",
     "output_type": "stream",
     "text": [
      "고유 벡터 \n",
      " [[ 0.70710678  0.70710678]\n",
      " [-0.70710678  0.70710678]]\n",
      "고유 값 \n",
      " [1.12507025 0.88835257]\n",
      "고유 벡터 \n",
      " [[ 0.70710678 -0.70710678]\n",
      " [ 0.70710678  0.70710678]]\n",
      "고유 값 \n",
      " [1.97603902 0.03738379]\n"
     ]
    }
   ],
   "source": [
    "# 고유값과 고유벡터 (np.linalg.eig)\n",
    "f1_eig_vals, f1_eig_vecs = np.linalg.eig(np.cov(tf1))\n",
    "\n",
    "print('고유 벡터 \\n %s' % f1_eig_vecs)\n",
    "print('고유 값 \\n %s' % f1_eig_vals)\n",
    "\n",
    "# 고유값과 고유벡터 (np.linalg.eig)\n",
    "f2_eig_vals, f2_eig_vecs = np.linalg.eig(np.cov(tf2))\n",
    "\n",
    "print('고유 벡터 \\n %s' % f2_eig_vecs)\n",
    "print('고유 값 \\n %s' % f2_eig_vals)"
   ]
  },
  {
   "cell_type": "code",
   "execution_count": 9,
   "metadata": {},
   "outputs": [
    {
     "name": "stdout",
     "output_type": "stream",
     "text": [
      "0.5587848920665012\n",
      "0.9814327157013978\n"
     ]
    }
   ],
   "source": [
    "print(f1_eig_vals[0] / sum(f1_eig_vals) )\n",
    "print(f2_eig_vals[0] / sum(f2_eig_vals) )"
   ]
  },
  {
   "cell_type": "code",
   "execution_count": 10,
   "metadata": {},
   "outputs": [
    {
     "data": {
      "text/plain": [
       "array([-1.87784285, -1.87784285, -1.91803298, -1.83765272, -1.87784285,\n",
       "       -1.57111644, -1.78476484, -1.83765272, -1.87784285, -1.93073073,\n",
       "       -1.83765272, -1.79746259, -1.97092086, -2.09149125, -1.95822311,\n",
       "       -1.6514967 , -1.73187696, -1.78476484, -1.66419445, -1.74457471,\n",
       "       -1.75727246, -1.6514967 , -2.03860337, -1.47803843, -1.6768922 ,\n",
       "       -1.79746259, -1.61130657, -1.83765272, -1.87784285, -1.79746259,\n",
       "       -1.79746259, -1.6514967 , -1.93073073, -1.87784285, -1.83765272,\n",
       "       -1.95822311, -1.91803298, -1.97092086, -1.91803298, -1.83765272,\n",
       "       -1.82495497, -1.82495497, -1.91803298, -1.42515055, -1.49073618,\n",
       "       -1.78476484, -1.79746259, -1.87784285, -1.83765272, -1.87784285,\n",
       "        0.56536756,  0.57806532,  0.73882584,  0.19095864,  0.61825545,\n",
       "        0.39190929,  0.75152359, -0.3696063 ,  0.43209942,  0.24384652,\n",
       "       -0.28922604,  0.45749493, -0.08827539,  0.56536756,  0.03019812,\n",
       "        0.44479717,  0.57806532, -0.04808526,  0.57806532, -0.03538751,\n",
       "        0.97786974,  0.19095864,  0.73882584,  0.37921154,  0.31152903,\n",
       "        0.44479717,  0.60555769,  0.96517199,  0.57806532, -0.28922604,\n",
       "       -0.07557764, -0.20884578,  0.0576905 ,  0.91228411,  0.57806532,\n",
       "        0.67114333,  0.65844558,  0.35171916,  0.23114877,  0.19095864,\n",
       "        0.25864115,  0.52517743,  0.09788063, -0.3696063 ,  0.2713389 ,\n",
       "        0.17826089,  0.2713389 ,  0.31152903, -0.39709868,  0.23114877,\n",
       "        2.11169737,  1.19151814,  1.6991952 ,  1.29939078,  1.75208308,\n",
       "        1.98052611,  0.76422134,  1.58072169,  1.37977104,  2.1518875 ,\n",
       "        1.28459615,  1.2718984 ,  1.53843468,  1.24440602,  1.65690819,\n",
       "        1.64421044,  1.25920065,  2.11379425,  2.28725252,  0.77901597,\n",
       "        1.80497096,  1.20421589,  1.92763823,  1.01805987,  1.61881494,\n",
       "        1.4601513 ,  0.97786974,  1.01805987,  1.57862481,  1.19361502,\n",
       "        1.59341944,  1.80706784,  1.67170282,  0.8192061 ,  0.92707873,\n",
       "        1.96573148,  1.85785884,  1.25920065,  0.97786974,  1.49824455,\n",
       "        1.85785884,  1.56383018,  1.19151814,  1.88535122,  1.99112698,\n",
       "        1.60402031,  1.15132801,  1.32478628,  1.68440057,  1.09844013])"
      ]
     },
     "execution_count": 10,
     "metadata": {},
     "output_type": "execute_result"
    }
   ],
   "source": [
    "# 첫번째 고유벡터에 데이터를 정사영\n",
    "projected_f1 = np.dot(f1, f1_eig_vecs.T[0])\n",
    "projected_f1\n",
    "\n",
    "# 첫번째 고유벡터에 데이터를 정사영\n",
    "projected_f2 = np.dot(f2, f2_eig_vecs.T[0])\n",
    "projected_f2\n"
   ]
  },
  {
   "cell_type": "code",
   "execution_count": 11,
   "metadata": {},
   "outputs": [
    {
     "data": {
      "text/html": [
       "<div>\n",
       "<style scoped>\n",
       "    .dataframe tbody tr th:only-of-type {\n",
       "        vertical-align: middle;\n",
       "    }\n",
       "\n",
       "    .dataframe tbody tr th {\n",
       "        vertical-align: top;\n",
       "    }\n",
       "\n",
       "    .dataframe thead th {\n",
       "        text-align: right;\n",
       "    }\n",
       "</style>\n",
       "<table border=\"1\" class=\"dataframe\">\n",
       "  <thead>\n",
       "    <tr style=\"text-align: right;\">\n",
       "      <th></th>\n",
       "      <th>PC1</th>\n",
       "      <th>PC2</th>\n",
       "      <th>yaxis</th>\n",
       "      <th>label</th>\n",
       "    </tr>\n",
       "  </thead>\n",
       "  <tbody>\n",
       "    <tr>\n",
       "      <td>0</td>\n",
       "      <td>-1.357423</td>\n",
       "      <td>-1.877843</td>\n",
       "      <td>0.0</td>\n",
       "      <td>setosa</td>\n",
       "    </tr>\n",
       "    <tr>\n",
       "      <td>1</td>\n",
       "      <td>-0.714911</td>\n",
       "      <td>-1.877843</td>\n",
       "      <td>0.0</td>\n",
       "      <td>setosa</td>\n",
       "    </tr>\n",
       "    <tr>\n",
       "      <td>2</td>\n",
       "      <td>-1.211816</td>\n",
       "      <td>-1.918033</td>\n",
       "      <td>0.0</td>\n",
       "      <td>setosa</td>\n",
       "    </tr>\n",
       "    <tr>\n",
       "      <td>3</td>\n",
       "      <td>-1.134721</td>\n",
       "      <td>-1.837653</td>\n",
       "      <td>0.0</td>\n",
       "      <td>setosa</td>\n",
       "    </tr>\n",
       "    <tr>\n",
       "      <td>4</td>\n",
       "      <td>-1.605875</td>\n",
       "      <td>-1.877843</td>\n",
       "      <td>0.0</td>\n",
       "      <td>setosa</td>\n",
       "    </tr>\n",
       "    <tr>\n",
       "      <td>...</td>\n",
       "      <td>...</td>\n",
       "      <td>...</td>\n",
       "      <td>...</td>\n",
       "      <td>...</td>\n",
       "    </tr>\n",
       "    <tr>\n",
       "      <td>145</td>\n",
       "      <td>0.827304</td>\n",
       "      <td>1.604020</td>\n",
       "      <td>0.0</td>\n",
       "      <td>virginica</td>\n",
       "    </tr>\n",
       "    <tr>\n",
       "      <td>146</td>\n",
       "      <td>1.298458</td>\n",
       "      <td>1.151328</td>\n",
       "      <td>0.0</td>\n",
       "      <td>virginica</td>\n",
       "    </tr>\n",
       "    <tr>\n",
       "      <td>147</td>\n",
       "      <td>0.655947</td>\n",
       "      <td>1.324786</td>\n",
       "      <td>0.0</td>\n",
       "      <td>virginica</td>\n",
       "    </tr>\n",
       "    <tr>\n",
       "      <td>148</td>\n",
       "      <td>-0.252184</td>\n",
       "      <td>1.684401</td>\n",
       "      <td>0.0</td>\n",
       "      <td>virginica</td>\n",
       "    </tr>\n",
       "    <tr>\n",
       "      <td>149</td>\n",
       "      <td>0.141875</td>\n",
       "      <td>1.098440</td>\n",
       "      <td>0.0</td>\n",
       "      <td>virginica</td>\n",
       "    </tr>\n",
       "  </tbody>\n",
       "</table>\n",
       "<p>150 rows × 4 columns</p>\n",
       "</div>"
      ],
      "text/plain": [
       "          PC1       PC2  yaxis      label\n",
       "0   -1.357423 -1.877843    0.0     setosa\n",
       "1   -0.714911 -1.877843    0.0     setosa\n",
       "2   -1.211816 -1.918033    0.0     setosa\n",
       "3   -1.134721 -1.837653    0.0     setosa\n",
       "4   -1.605875 -1.877843    0.0     setosa\n",
       "..        ...       ...    ...        ...\n",
       "145  0.827304  1.604020    0.0  virginica\n",
       "146  1.298458  1.151328    0.0  virginica\n",
       "147  0.655947  1.324786    0.0  virginica\n",
       "148 -0.252184  1.684401    0.0  virginica\n",
       "149  0.141875  1.098440    0.0  virginica\n",
       "\n",
       "[150 rows x 4 columns]"
      ]
     },
     "execution_count": 11,
     "metadata": {},
     "output_type": "execute_result"
    }
   ],
   "source": [
    "res = pd.DataFrame(projected_f1, columns=['PC1'])\n",
    "res['PC2'] = projected_f2\n",
    "res['yaxis'] = 0.0\n",
    "res['label'] = Y\n",
    "res"
   ]
  },
  {
   "cell_type": "code",
   "execution_count": 17,
   "metadata": {},
   "outputs": [],
   "source": [
    "?plt.scatter"
   ]
  },
  {
   "cell_type": "code",
   "execution_count": 24,
   "metadata": {
    "scrolled": true
   },
   "outputs": [
    {
     "data": {
      "text/plain": [
       "<matplotlib.axes._subplots.AxesSubplot at 0x24a7a5f59c8>"
      ]
     },
     "execution_count": 24,
     "metadata": {},
     "output_type": "execute_result"
    },
    {
     "data": {
      "image/png": "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\n",
      "text/plain": [
       "<Figure size 720x576 with 1 Axes>"
      ]
     },
     "metadata": {
      "needs_background": "light"
     },
     "output_type": "display_data"
    }
   ],
   "source": [
    "plt.figure(figsize=(10,8))\n",
    "sns.scatterplot(x='PC1', y='PC2', data=res, hue='label')"
   ]
  },
  {
   "cell_type": "code",
   "execution_count": 12,
   "metadata": {},
   "outputs": [
    {
     "data": {
      "text/plain": [
       "Text(0.5, 1, 'PCA result')"
      ]
     },
     "execution_count": 12,
     "metadata": {},
     "output_type": "execute_result"
    },
    {
     "data": {
      "image/png": "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\n",
      "text/plain": [
       "<Figure size 444.75x360 with 1 Axes>"
      ]
     },
     "metadata": {
      "needs_background": "light"
     },
     "output_type": "display_data"
    },
    {
     "data": {
      "image/png": "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\n",
      "text/plain": [
       "<Figure size 444.75x360 with 1 Axes>"
      ]
     },
     "metadata": {
      "needs_background": "light"
     },
     "output_type": "display_data"
    }
   ],
   "source": [
    "sns.lmplot('PC1', 'yaxis', res, hue = 'label', fit_reg=False)\n",
    "sns.lmplot('PC2', 'yaxis', res, hue = 'label', fit_reg=False)\n",
    "\n",
    "plt.title('PCA result')"
   ]
=======
   "cell_type": "code",
   "execution_count": null,
   "metadata": {},
   "outputs": [],
   "source": []
  },
  {
   "cell_type": "code",
   "execution_count": null,
   "metadata": {},
   "outputs": [],
   "source": []
  },
  {
   "cell_type": "code",
   "execution_count": null,
   "metadata": {},
   "outputs": [],
   "source": []
  },
  {
   "cell_type": "code",
   "execution_count": null,
   "metadata": {},
   "outputs": [],
   "source": []
  },
  {
   "cell_type": "code",
   "execution_count": null,
   "metadata": {},
   "outputs": [],
   "source": []
  },
  {
   "cell_type": "code",
   "execution_count": null,
   "metadata": {},
   "outputs": [],
   "source": []
  },
  {
   "cell_type": "code",
   "execution_count": null,
   "metadata": {},
   "outputs": [],
   "source": []
  },
  {
   "cell_type": "code",
   "execution_count": null,
   "metadata": {},
   "outputs": [],
   "source": []
  },
  {
   "cell_type": "code",
   "execution_count": null,
   "metadata": {},
   "outputs": [],
   "source": []
>>>>>>> 874a3aee259395a72bf941f93b0617615eeef427
  },
  {
   "cell_type": "code",
   "execution_count": null,
   "metadata": {},
   "outputs": [],
   "source": []
  }
 ],
 "metadata": {
  "kernelspec": {
   "display_name": "Python 3",
   "language": "python",
   "name": "python3"
  },
  "language_info": {
   "codemirror_mode": {
    "name": "ipython",
    "version": 3
   },
   "file_extension": ".py",
   "mimetype": "text/x-python",
   "name": "python",
   "nbconvert_exporter": "python",
   "pygments_lexer": "ipython3",
   "version": "3.7.4"
  }
 },
 "nbformat": 4,
 "nbformat_minor": 2
}
