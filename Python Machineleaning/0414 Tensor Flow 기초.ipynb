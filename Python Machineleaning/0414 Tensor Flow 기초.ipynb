{
 "cells": [
  {
   "cell_type": "code",
   "execution_count": 47,
   "metadata": {},
   "outputs": [],
   "source": [
    "import numpy as np\n",
    "import pandas as pd"
   ]
  },
  {
   "cell_type": "code",
   "execution_count": 1,
   "metadata": {},
   "outputs": [
    {
     "name": "stdout",
     "output_type": "stream",
     "text": [
      "WARNING:tensorflow:From C:\\Users\\student\\Anaconda3\\lib\\site-packages\\tensorflow_core\\python\\compat\\v2_compat.py:68: disable_resource_variables (from tensorflow.python.ops.variable_scope) is deprecated and will be removed in a future version.\n",
      "Instructions for updating:\n",
      "non-resource variables are not supported in the long term\n"
     ]
    }
   ],
   "source": [
    "# tensorflow.org\n",
    "import tensorflow.compat.v1 as tf\n",
    "tf.disable_v2_behavior()"
   ]
  },
  {
   "cell_type": "code",
   "execution_count": 2,
   "metadata": {},
   "outputs": [],
   "source": [
    "# 플레이스홀더: 프로그램 실행 중에 값을 변경할 수 있는 변수를 2개 정의; 데이터를 담는 버퍼와 같은 것…\n",
    "a = tf.placeholder(\"float\")\n",
    "b = tf.placeholder(\"float\")\n",
    "# tf.Variable # = 변수"
   ]
  },
  {
   "cell_type": "code",
   "execution_count": 3,
   "metadata": {},
   "outputs": [
    {
     "name": "stdout",
     "output_type": "stream",
     "text": [
      "6.0\n"
     ]
    }
   ],
   "source": [
    "y = tf.multiply(a,b)\n",
    "sess = tf.Session() # 그래프 실행을 위해서는 세션이 필요\n",
    "print(sess.run(y,feed_dict={a:3,b:2})) # Session .run() : 그래프를 실행\n",
    "# y Node 실행. \n",
    "# 노드 y를 노드 a,b를 곱한것이라고 하자.\n",
    "# run이 실행 되면 y 노드 실행… y노드 실행하려면 a,b 필요… a,b에 값을 전달~feed_dict (코드 역행..?)"
   ]
  },
  {
   "cell_type": "code",
   "execution_count": 4,
   "metadata": {},
   "outputs": [
    {
     "name": "stdout",
     "output_type": "stream",
     "text": [
      "3\n"
     ]
    }
   ],
   "source": [
    "a = tf.constant(3)\n",
    "with tf.Session() as sess:\n",
    "    print(a.eval())"
   ]
  },
  {
   "cell_type": "code",
   "execution_count": 11,
   "metadata": {},
   "outputs": [
    {
     "name": "stdout",
     "output_type": "stream",
     "text": [
      "b'Hello'\n"
     ]
    }
   ],
   "source": [
    "hello = tf.constant(\"Hello\")\n",
    "# tf를 실해하기 위한 세션 객체 생성\n",
    "sess = tf.Session()\n",
    "\n",
    "print(sess.run(hello))"
   ]
  },
  {
   "cell_type": "code",
   "execution_count": 12,
   "metadata": {},
   "outputs": [
    {
     "data": {
      "text/plain": [
       "3"
      ]
     },
     "execution_count": 12,
     "metadata": {},
     "output_type": "execute_result"
    }
   ],
   "source": [
    "## tensor의 Rank와 Shape\n",
    "\n",
    "3  # Rank(차원) : 0 tensor / Shape : []\n",
    "[1,2,3]  # Rank(차원) : 1 tensor / Shape : [3]\n",
    "[[1,2,3], [1,2,3]]  # Rank(차원) : 2 tensor / Shape : [2,3]\n",
    "[[[1,2,3]],[[4,5,6]]]  # Rank(차원) : 3 tensor / Shape : [2,1,3]"
   ]
  },
  {
   "cell_type": "code",
   "execution_count": 21,
   "metadata": {},
   "outputs": [
    {
     "name": "stdout",
     "output_type": "stream",
     "text": [
      "30\n",
      "30\n",
      "10\n",
      "20\n",
      "30\n"
     ]
    }
   ],
   "source": [
    "a = tf.constant(10)\n",
    "b = tf.constant(20)\n",
    "\n",
    "# a + b\n",
    "sess = tf.Session()\n",
    "c = tf.add(a,b)\n",
    "\n",
    "print(sess.run(tf.add(a,b)))\n",
    "print(sess.run(c))\n",
    "\n",
    "print(sess.run(a))\n",
    "print(sess.run(b))\n",
    "print(sess.run(a+b))\n",
    "\n",
    "# 세션 닫기\n",
    "sess.close()"
   ]
  },
  {
   "cell_type": "code",
   "execution_count": 32,
   "metadata": {},
   "outputs": [
    {
     "name": "stdout",
     "output_type": "stream",
     "text": [
      "[ 7. 70.]\n"
     ]
    }
   ],
   "source": [
    "## placeholder \n",
    "\n",
    "a = tf.placeholder(dtype=\"float\")\n",
    "b = tf.placeholder(tf.float32)\n",
    "\n",
    "adderNode = a + b\n",
    "\n",
    "sess = tf.Session()\n",
    "\n",
    "# 단일 데이터 전달\n",
    "# print(sess.run(adderNode, feed_dict={a:3, b:4}))\n",
    "\n",
    "# 여러 데이터 전달\n",
    "print(sess.run(adderNode, feed_dict={a:[3,30], b:[4,40]}))"
   ]
  },
  {
   "cell_type": "code",
   "execution_count": 38,
   "metadata": {},
   "outputs": [
    {
     "name": "stdout",
     "output_type": "stream",
     "text": [
      "15.0\n"
     ]
    }
   ],
   "source": [
    "# 전달되어지는 두 값을 받아 더한 결과의 3배를 해 출력\n",
    "\n",
    "a = tf.placeholder(dtype=\"float\")\n",
    "b = tf.placeholder(tf.float32)\n",
    "\n",
    "adderNode = a + b\n",
    "triple = adderNode * 3\n",
    "\n",
    "sess = tf.Session()\n",
    "\n",
    "# 단일 데이터 전달\n",
    "# print(sess.run(adderNode, feed_dict={a:3, b:4}))\n",
    "\n",
    "# 여러 데이터 전달\n",
    "print(sess.run(triple, feed_dict={a:2, b:3}))\n",
    "\n",
    "sess.close()"
   ]
  },
  {
   "cell_type": "code",
   "execution_count": 45,
   "metadata": {},
   "outputs": [
    {
     "name": "stdout",
     "output_type": "stream",
     "text": [
      "[[1. 2. 3.]\n",
      " [4. 5. 6.]]\n"
     ]
    }
   ],
   "source": [
    "# placeholder에 shape 지정\n",
    "x = tf.placeholder(tf.float32, [None, 3])\n",
    "\n",
    "xdata = [[1,2,3], [4,5,6]]\n",
    "xdata2 = [[1,2], [4,5]]\n",
    "\n",
    "sess = tf.Session()\n",
    "\n",
    "print(sess.run(x, feed_dict={x : xdata}))\n",
    "# print(sess.run(x, feed_dict={x : xdata2}))\n",
    "\n",
    "sess.close()"
   ]
  },
  {
   "cell_type": "code",
   "execution_count": 58,
   "metadata": {},
   "outputs": [],
   "source": [
    "# H(x) = wx + b\n",
    "# 초기값 지정\n",
    "# w = tf.Variable(tf.random_normal([2,1]))\n",
    "w = tf.Variable([[1],[2]])\n",
    "\n",
    "# 행렬곱 함수\n",
    "hf = tf.matmul(x, w) + b"
   ]
  },
  {
   "cell_type": "code",
   "execution_count": 113,
   "metadata": {},
   "outputs": [
    {
     "name": "stdout",
     "output_type": "stream",
     "text": [
      "[[-1.3634039 ]\n",
      " [ 0.80046797]\n",
      " [-0.29760155]]\n",
      "\n",
      "\n",
      "[1.5344743]\n",
      "\n",
      "\n",
      "[[ 0.87920165]\n",
      " [-1.7024108 ]]\n"
     ]
    }
   ],
   "source": [
    "# Quiz\n",
    "\n",
    "xdata = [[1,2,3],  # (2,3)\n",
    "        [4,5,6]]\n",
    "\n",
    "x = tf.placeholder(tf.float32)\n",
    "\n",
    "w = tf.Variable(tf.random_normal([3,1]))\n",
    "b = tf.Variable(tf.random_normal([1]))\n",
    "\n",
    "hf = tf.matmul(x, w) + b\n",
    "\n",
    "sess = tf.Session()\n",
    "\n",
    "# print(sess.run(hf, feed_dict={x : xdata}))\n",
    "sess.run(tf.global_variables_initializer())\n",
    "\n",
    "print(sess.run(w))\n",
    "print(\"\\n\")\n",
    "print(sess.run(b))\n",
    "print(\"\\n\")\n",
    "print(sess.run(hf, feed_dict={x:xdata}))\n",
    "\n",
    "# hf = wx + b\n",
    "# x의 shape = (2,3)\n",
    "# w의 shape = (3,1)"
   ]
  },
  {
   "cell_type": "markdown",
   "metadata": {},
   "source": [
    "# 선형 회귀 모델"
   ]
  },
  {
   "cell_type": "code",
   "execution_count": 255,
   "metadata": {},
   "outputs": [
    {
     "name": "stdout",
     "output_type": "stream",
     "text": [
      "[array([-2.2480292], dtype=float32), array([1.314063], dtype=float32), array([-178.52829, -212.24872, -216.74478], dtype=float32)]\n"
     ]
    }
   ],
   "source": [
    "xtrain = [80, 95, 97]  # 모의고사 점수 (3명)\n",
    "ytrain = [82, 90, 98]  # 수   능 점수 (3명)\n",
    "\n",
    "# 모의고사 70점 학생은 수능 점수가 몇 점일까 ?\n",
    "# hf = wx + b \n",
    "# 82 = ? * 80 + b\n",
    "# 90 = ? * 95 + b\n",
    "# 98 = ? * 97 + b\n",
    "\n",
    "w = tf.Variable(tf.random_normal([1]))\n",
    "b = tf.Variable(tf.random_normal([1]))\n",
    "\n",
    "hf = xtrain * w + b\n",
    "# 세션 열기\n",
    "sess = tf.Session()\n",
    "# tf.Variable을 사용하기 위한 구문\n",
    "sess.run(tf.global_variables_initializer())\n",
    "\n",
    "print(sess.run([w,b,hf]))"
   ]
  },
  {
   "cell_type": "code",
   "execution_count": 256,
   "metadata": {},
   "outputs": [
    {
     "data": {
      "text/plain": [
       "<tf.Tensor 'Mean_5:0' shape=() dtype=float32>"
      ]
     },
     "execution_count": 256,
     "metadata": {},
     "output_type": "execute_result"
    }
   ],
   "source": [
    "hf = xtrain * w + b\n",
    "cost = tf.reduce_mean(tf.square(hf - ytrain))  # (예측값 - 실제값)합의 제곱에 대한 평균\n",
    "cost"
   ]
  },
  {
   "cell_type": "code",
   "execution_count": 257,
   "metadata": {},
   "outputs": [],
   "source": [
    "# 옵티마이져 선택\n",
    "opt =tf.train.GradientDescentOptimizer(0.00001)\n",
    "# 경사하강법\n",
    "train = opt.minimize(cost)"
   ]
  },
  {
   "cell_type": "code",
   "execution_count": 258,
   "metadata": {},
   "outputs": [
    {
     "name": "stdout",
     "output_type": "stream",
     "text": [
      "[86097.85, array([-2.2480292], dtype=float32), array([1.314063], dtype=float32)]\n"
     ]
    }
   ],
   "source": [
    "# fit the line\n",
    "print(sess.run([cost, w, b]))"
   ]
  },
  {
   "cell_type": "code",
   "execution_count": 491,
   "metadata": {},
   "outputs": [
    {
     "name": "stdout",
     "output_type": "stream",
     "text": [
      "[9.025871, array([0.97643644], dtype=float32), array([1.3499358], dtype=float32)]\n"
     ]
    }
   ],
   "source": [
    "sess.run(train)\n",
    "print(sess.run([cost, w, b]))"
   ]
  },
  {
   "cell_type": "code",
   "execution_count": null,
   "metadata": {},
   "outputs": [],
   "source": []
  },
  {
   "cell_type": "code",
   "execution_count": null,
   "metadata": {},
   "outputs": [],
   "source": []
  },
  {
   "cell_type": "code",
   "execution_count": null,
   "metadata": {},
   "outputs": [],
   "source": []
  },
  {
   "cell_type": "code",
   "execution_count": null,
   "metadata": {},
   "outputs": [],
   "source": []
  },
  {
   "cell_type": "code",
   "execution_count": null,
   "metadata": {},
   "outputs": [],
   "source": []
  },
  {
   "cell_type": "code",
   "execution_count": null,
   "metadata": {},
   "outputs": [],
   "source": []
  },
  {
   "cell_type": "code",
   "execution_count": null,
   "metadata": {},
   "outputs": [],
   "source": []
  },
  {
   "cell_type": "code",
   "execution_count": null,
   "metadata": {},
   "outputs": [],
   "source": []
  },
  {
   "cell_type": "code",
   "execution_count": null,
   "metadata": {},
   "outputs": [],
   "source": []
  },
  {
   "cell_type": "code",
   "execution_count": null,
   "metadata": {},
   "outputs": [],
   "source": []
  },
  {
   "cell_type": "code",
   "execution_count": null,
   "metadata": {},
   "outputs": [],
   "source": []
  },
  {
   "cell_type": "code",
   "execution_count": null,
   "metadata": {},
   "outputs": [],
   "source": []
  },
  {
   "cell_type": "code",
   "execution_count": null,
   "metadata": {},
   "outputs": [],
   "source": []
  },
  {
   "cell_type": "code",
   "execution_count": null,
   "metadata": {},
   "outputs": [],
   "source": []
  },
  {
   "cell_type": "code",
   "execution_count": null,
   "metadata": {},
   "outputs": [],
   "source": []
  },
  {
   "cell_type": "code",
   "execution_count": null,
   "metadata": {},
   "outputs": [],
   "source": []
  },
  {
   "cell_type": "code",
   "execution_count": null,
   "metadata": {},
   "outputs": [],
   "source": []
  },
  {
   "cell_type": "code",
   "execution_count": null,
   "metadata": {},
   "outputs": [],
   "source": []
  },
  {
   "cell_type": "code",
   "execution_count": null,
   "metadata": {},
   "outputs": [],
   "source": []
  },
  {
   "cell_type": "code",
   "execution_count": null,
   "metadata": {},
   "outputs": [],
   "source": []
  },
  {
   "cell_type": "code",
   "execution_count": null,
   "metadata": {},
   "outputs": [],
   "source": []
  },
  {
   "cell_type": "code",
   "execution_count": null,
   "metadata": {},
   "outputs": [],
   "source": []
  }
 ],
 "metadata": {
  "kernelspec": {
   "display_name": "Python 3",
   "language": "python",
   "name": "python3"
  },
  "language_info": {
   "codemirror_mode": {
    "name": "ipython",
    "version": 3
   },
   "file_extension": ".py",
   "mimetype": "text/x-python",
   "name": "python",
   "nbconvert_exporter": "python",
   "pygments_lexer": "ipython3",
   "version": "3.7.4"
  }
 },
 "nbformat": 4,
 "nbformat_minor": 2
}
