{
 "cells": [
  {
   "cell_type": "code",
   "execution_count": 76,
   "metadata": {},
   "outputs": [],
   "source": [
    "import pandas as pd \n",
    "import numpy as np \n"
   ]
  },
  {
   "cell_type": "code",
   "execution_count": 71,
   "metadata": {},
   "outputs": [],
   "source": [
    "df = pd.read_csv('C:\\\\Rykw\\movie_cast.csv',encoding='CP949')"
   ]
  },
  {
   "cell_type": "code",
   "execution_count": 72,
   "metadata": {},
   "outputs": [
    {
     "data": {
      "text/html": [
       "<div>\n",
       "<style scoped>\n",
       "    .dataframe tbody tr th:only-of-type {\n",
       "        vertical-align: middle;\n",
       "    }\n",
       "\n",
       "    .dataframe tbody tr th {\n",
       "        vertical-align: top;\n",
       "    }\n",
       "\n",
       "    .dataframe thead th {\n",
       "        text-align: right;\n",
       "    }\n",
       "</style>\n",
       "<table border=\"1\" class=\"dataframe\">\n",
       "  <thead>\n",
       "    <tr style=\"text-align: right;\">\n",
       "      <th></th>\n",
       "      <th>영화명</th>\n",
       "      <th>배우</th>\n",
       "    </tr>\n",
       "  </thead>\n",
       "  <tbody>\n",
       "    <tr>\n",
       "      <td>0</td>\n",
       "      <td>명량</td>\n",
       "      <td>최민식 류승룡 조진웅 김명곤 진구 이정현 권율</td>\n",
       "    </tr>\n",
       "    <tr>\n",
       "      <td>1</td>\n",
       "      <td>극한직업</td>\n",
       "      <td>류승룡 이하늬 진선규 이동휘 공명 양현민 장진희</td>\n",
       "    </tr>\n",
       "    <tr>\n",
       "      <td>2</td>\n",
       "      <td>신과함께-죄와 벌</td>\n",
       "      <td>하정우 차태현 주지훈 김향기 마동석 김동욱 도경수</td>\n",
       "    </tr>\n",
       "    <tr>\n",
       "      <td>3</td>\n",
       "      <td>국제시장</td>\n",
       "      <td>황정민 김윤진 오달수 정진영 장영남 라미란 김슬기</td>\n",
       "    </tr>\n",
       "    <tr>\n",
       "      <td>4</td>\n",
       "      <td>베테랑</td>\n",
       "      <td>황정민 유아인 유해진 오달수 장윤주 김시후 오대환</td>\n",
       "    </tr>\n",
       "  </tbody>\n",
       "</table>\n",
       "</div>"
      ],
      "text/plain": [
       "         영화명                           배우\n",
       "0         명량    최민식 류승룡 조진웅 김명곤 진구 이정현 권율\n",
       "1       극한직업   류승룡 이하늬 진선규 이동휘 공명 양현민 장진희\n",
       "2  신과함께-죄와 벌  하정우 차태현 주지훈 김향기 마동석 김동욱 도경수\n",
       "3       국제시장  황정민 김윤진 오달수 정진영 장영남 라미란 김슬기\n",
       "4        베테랑  황정민 유아인 유해진 오달수 장윤주 김시후 오대환"
      ]
     },
     "execution_count": 72,
     "metadata": {},
     "output_type": "execute_result"
    }
   ],
   "source": [
    "df.head()"
   ]
  },
  {
   "cell_type": "code",
   "execution_count": 68,
   "metadata": {},
   "outputs": [
    {
     "data": {
      "text/plain": [
       "0               최민식 류승룡 조진웅 김명곤 진구 이정현 권율\n",
       "1      [류승룡, 이하늬, 진선규, 이동휘, 공명, 양현민, 장진희]\n",
       "2             하정우 차태현 주지훈 김향기 마동석 김동욱 도경수\n",
       "3             황정민 김윤진 오달수 정진영 장영남 라미란 김슬기\n",
       "4             황정민 유아인 유해진 오달수 장윤주 김시후 오대환\n",
       "                      ...                \n",
       "495       장동건 나카무라 토오루 천호진 신구 조성철 박제현 서상우\n",
       "496           예지원 최찬숙 지현우 김지영 김혜옥 김호준 안몽식\n",
       "497           김상경 김성균 박성웅 윤승아 조재윤 김의성 기주봉\n",
       "498            이미연 최지우 김주혁 유아인 강하늘 이솜 하석진\n",
       "499                현빈 탕웨이 김서라 NA NA NA NA\n",
       "Name: 배우, Length: 500, dtype: object"
      ]
     },
     "execution_count": 68,
     "metadata": {},
     "output_type": "execute_result"
    }
   ],
   "source": [
    "df.배우"
   ]
  },
  {
   "cell_type": "code",
   "execution_count": 70,
   "metadata": {},
   "outputs": [],
   "source": [
    "df.배우[1] = df.배우[1].split(' ')"
   ]
  },
  {
   "cell_type": "code",
   "execution_count": 73,
   "metadata": {},
   "outputs": [],
   "source": [
    "for i in range(500) :\n",
    "    i = int(i)\n",
    "    df.배우[i] = df.배우[i].split(' ')"
   ]
  },
  {
   "cell_type": "code",
   "execution_count": 74,
   "metadata": {},
   "outputs": [
    {
     "data": {
      "text/html": [
       "<div>\n",
       "<style scoped>\n",
       "    .dataframe tbody tr th:only-of-type {\n",
       "        vertical-align: middle;\n",
       "    }\n",
       "\n",
       "    .dataframe tbody tr th {\n",
       "        vertical-align: top;\n",
       "    }\n",
       "\n",
       "    .dataframe thead th {\n",
       "        text-align: right;\n",
       "    }\n",
       "</style>\n",
       "<table border=\"1\" class=\"dataframe\">\n",
       "  <thead>\n",
       "    <tr style=\"text-align: right;\">\n",
       "      <th></th>\n",
       "      <th>영화명</th>\n",
       "      <th>배우</th>\n",
       "    </tr>\n",
       "  </thead>\n",
       "  <tbody>\n",
       "    <tr>\n",
       "      <td>0</td>\n",
       "      <td>명량</td>\n",
       "      <td>[최민식, 류승룡, 조진웅, 김명곤, 진구, 이정현, 권율]</td>\n",
       "    </tr>\n",
       "    <tr>\n",
       "      <td>1</td>\n",
       "      <td>극한직업</td>\n",
       "      <td>[류승룡, 이하늬, 진선규, 이동휘, 공명, 양현민, 장진희]</td>\n",
       "    </tr>\n",
       "    <tr>\n",
       "      <td>2</td>\n",
       "      <td>신과함께-죄와 벌</td>\n",
       "      <td>[하정우, 차태현, 주지훈, 김향기, 마동석, 김동욱, 도경수]</td>\n",
       "    </tr>\n",
       "    <tr>\n",
       "      <td>3</td>\n",
       "      <td>국제시장</td>\n",
       "      <td>[황정민, 김윤진, 오달수, 정진영, 장영남, 라미란, 김슬기]</td>\n",
       "    </tr>\n",
       "    <tr>\n",
       "      <td>4</td>\n",
       "      <td>베테랑</td>\n",
       "      <td>[황정민, 유아인, 유해진, 오달수, 장윤주, 김시후, 오대환]</td>\n",
       "    </tr>\n",
       "  </tbody>\n",
       "</table>\n",
       "</div>"
      ],
      "text/plain": [
       "         영화명                                   배우\n",
       "0         명량    [최민식, 류승룡, 조진웅, 김명곤, 진구, 이정현, 권율]\n",
       "1       극한직업   [류승룡, 이하늬, 진선규, 이동휘, 공명, 양현민, 장진희]\n",
       "2  신과함께-죄와 벌  [하정우, 차태현, 주지훈, 김향기, 마동석, 김동욱, 도경수]\n",
       "3       국제시장  [황정민, 김윤진, 오달수, 정진영, 장영남, 라미란, 김슬기]\n",
       "4        베테랑  [황정민, 유아인, 유해진, 오달수, 장윤주, 김시후, 오대환]"
      ]
     },
     "execution_count": 74,
     "metadata": {},
     "output_type": "execute_result"
    }
   ],
   "source": [
    "df.head()"
   ]
  },
  {
   "cell_type": "code",
   "execution_count": 75,
   "metadata": {},
   "outputs": [
    {
     "data": {
      "text/plain": [
       "0             [최민식, 류승룡, 조진웅, 김명곤, 진구, 이정현, 권율]\n",
       "1            [류승룡, 이하늬, 진선규, 이동휘, 공명, 양현민, 장진희]\n",
       "2           [하정우, 차태현, 주지훈, 김향기, 마동석, 김동욱, 도경수]\n",
       "3           [황정민, 김윤진, 오달수, 정진영, 장영남, 라미란, 김슬기]\n",
       "4           [황정민, 유아인, 유해진, 오달수, 장윤주, 김시후, 오대환]\n",
       "                         ...                   \n",
       "495    [장동건, 나카무라, 토오루, 천호진, 신구, 조성철, 박제현, 서상우]\n",
       "496         [예지원, 최찬숙, 지현우, 김지영, 김혜옥, 김호준, 안몽식]\n",
       "497         [김상경, 김성균, 박성웅, 윤승아, 조재윤, 김의성, 기주봉]\n",
       "498          [이미연, 최지우, 김주혁, 유아인, 강하늘, 이솜, 하석진]\n",
       "499              [현빈, 탕웨이, 김서라, NA, NA, NA, NA]\n",
       "Name: 배우, Length: 500, dtype: object"
      ]
     },
     "execution_count": 75,
     "metadata": {},
     "output_type": "execute_result"
    }
   ],
   "source": [
    "df.배우"
   ]
  },
  {
   "cell_type": "code",
   "execution_count": null,
   "metadata": {},
   "outputs": [],
   "source": []
  },
  {
   "cell_type": "code",
   "execution_count": null,
   "metadata": {},
   "outputs": [],
   "source": []
  }
 ],
 "metadata": {
  "kernelspec": {
   "display_name": "Python 3",
   "language": "python",
   "name": "python3"
  },
  "language_info": {
   "codemirror_mode": {
    "name": "ipython",
    "version": 3
   },
   "file_extension": ".py",
   "mimetype": "text/x-python",
   "name": "python",
   "nbconvert_exporter": "python",
   "pygments_lexer": "ipython3",
   "version": "3.7.4"
  }
 },
 "nbformat": 4,
 "nbformat_minor": 2
}
